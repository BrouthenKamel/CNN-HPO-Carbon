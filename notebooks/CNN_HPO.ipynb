{
  "cells": [
    {
      "cell_type": "markdown",
      "metadata": {
        "id": "LplJS03y4kyT"
      },
      "source": [
        "# Setup"
      ]
    },
    {
      "cell_type": "code",
      "execution_count": null,
      "metadata": {
        "colab": {
          "base_uri": "https://localhost:8080/"
        },
        "id": "GqWEmQylwIA7",
        "outputId": "868482b5-ba7b-4b31-dbd4-047cd3bff7ec"
      },
      "outputs": [],
      "source": [
        "!git clone https://github.com/BrouthenKamel/CNN-HPO-Carbon.git\n",
        "\n",
        "%cd CNN-HPO-Carbon\n",
        "\n",
        "!pip install -e ."
      ]
    },
    {
      "cell_type": "code",
      "execution_count": null,
      "metadata": {},
      "outputs": [],
      "source": [
        "from google.colab import drive\n",
        "drive.mount('/content/drive')"
      ]
    },
    {
      "cell_type": "markdown",
      "metadata": {
        "id": "glKxkTRs4uWt"
      },
      "source": [
        "# Scripts"
      ]
    },
    {
      "cell_type": "code",
      "execution_count": null,
      "metadata": {
        "colab": {
          "base_uri": "https://localhost:8080/"
        },
        "id": "RiMEZpgU21H7",
        "outputId": "ebd81f42-e218-4f04-e844-bbf6b3c3d0ba"
      },
      "outputs": [],
      "source": [
        "!python scripts/training.py"
      ]
    },
    {
      "cell_type": "code",
      "execution_count": null,
      "metadata": {},
      "outputs": [],
      "source": [
        "!python scripts/sample_training_colab.py"
      ]
    }
  ],
  "metadata": {
    "accelerator": "GPU",
    "colab": {
      "gpuType": "T4",
      "provenance": []
    },
    "kernelspec": {
      "display_name": "Python 3",
      "name": "python3"
    },
    "language_info": {
      "name": "python"
    }
  },
  "nbformat": 4,
  "nbformat_minor": 0
}
