{
  "cells": [
    {
      "cell_type": "markdown",
      "metadata": {
        "id": "LplJS03y4kyT"
      },
      "source": [
        "# Setup"
      ]
    },
    {
      "cell_type": "code",
      "execution_count": 1,
      "metadata": {
        "colab": {
          "base_uri": "https://localhost:8080/"
        },
        "id": "GqWEmQylwIA7",
        "outputId": "868482b5-ba7b-4b31-dbd4-047cd3bff7ec"
      },
      "outputs": [
        {
          "name": "stdout",
          "output_type": "stream",
          "text": [
            "Cloning into 'CNN-HPO-Carbon'...\n",
            "remote: Enumerating objects: 355, done.\u001b[K\n",
            "remote: Counting objects: 100% (287/287), done.\u001b[K\n",
            "remote: Compressing objects: 100% (165/165), done.\u001b[K\n",
            "remote: Total 355 (delta 114), reused 240 (delta 84), pack-reused 68 (from 1)\u001b[K\n",
            "Receiving objects: 100% (355/355), 23.55 MiB | 15.03 MiB/s, done.\n",
            "Resolving deltas: 100% (120/120), done.\n",
            "/content/CNN-HPO-Carbon\n",
            "Obtaining file:///content/CNN-HPO-Carbon\n",
            "  Preparing metadata (setup.py) ... \u001b[?25l\u001b[?25hdone\n",
            "Installing collected packages: cnn_hpo_carbon\n",
            "  Running setup.py develop for cnn_hpo_carbon\n",
            "Successfully installed cnn_hpo_carbon-0.1\n"
          ]
        }
      ],
      "source": [
        "!git clone https://github.com/BrouthenKamel/CNN-HPO-Carbon.git\n",
        "\n",
        "%cd CNN-HPO-Carbon\n",
        "\n",
        "!pip install -e ."
      ]
    },
    {
      "cell_type": "markdown",
      "metadata": {
        "id": "glKxkTRs4uWt"
      },
      "source": [
        "# Scripts"
      ]
    },
    {
      "cell_type": "code",
      "execution_count": null,
      "metadata": {
        "colab": {
          "base_uri": "https://localhost:8080/"
        },
        "id": "RiMEZpgU21H7",
        "outputId": "ebd81f42-e218-4f04-e844-bbf6b3c3d0ba"
      },
      "outputs": [],
      "source": [
        "!python scripts/training.py"
      ]
    },
    {
      "cell_type": "code",
      "execution_count": null,
      "metadata": {},
      "outputs": [],
      "source": [
        "!python scripts/sample_training.py"
      ]
    }
  ],
  "metadata": {
    "accelerator": "GPU",
    "colab": {
      "gpuType": "T4",
      "provenance": []
    },
    "kernelspec": {
      "display_name": "Python 3",
      "name": "python3"
    },
    "language_info": {
      "name": "python"
    }
  },
  "nbformat": 4,
  "nbformat_minor": 0
}
