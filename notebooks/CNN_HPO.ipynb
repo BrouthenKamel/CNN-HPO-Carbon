{
  "nbformat": 4,
  "nbformat_minor": 0,
  "metadata": {
    "colab": {
      "provenance": [],
      "gpuType": "T4"
    },
    "kernelspec": {
      "name": "python3",
      "display_name": "Python 3"
    },
    "language_info": {
      "name": "python"
    },
    "accelerator": "GPU"
  },
  "cells": [
    {
      "cell_type": "markdown",
      "source": [
        "# Setup"
      ],
      "metadata": {
        "id": "LplJS03y4kyT"
      }
    },
    {
      "cell_type": "code",
      "execution_count": 1,
      "metadata": {
        "colab": {
          "base_uri": "https://localhost:8080/"
        },
        "id": "GqWEmQylwIA7",
        "outputId": "868482b5-ba7b-4b31-dbd4-047cd3bff7ec"
      },
      "outputs": [
        {
          "output_type": "stream",
          "name": "stdout",
          "text": [
            "Cloning into 'CNN-HPO-Carbon'...\n",
            "remote: Enumerating objects: 355, done.\u001b[K\n",
            "remote: Counting objects: 100% (287/287), done.\u001b[K\n",
            "remote: Compressing objects: 100% (165/165), done.\u001b[K\n",
            "remote: Total 355 (delta 114), reused 240 (delta 84), pack-reused 68 (from 1)\u001b[K\n",
            "Receiving objects: 100% (355/355), 23.55 MiB | 15.03 MiB/s, done.\n",
            "Resolving deltas: 100% (120/120), done.\n",
            "/content/CNN-HPO-Carbon\n",
            "Obtaining file:///content/CNN-HPO-Carbon\n",
            "  Preparing metadata (setup.py) ... \u001b[?25l\u001b[?25hdone\n",
            "Installing collected packages: cnn_hpo_carbon\n",
            "  Running setup.py develop for cnn_hpo_carbon\n",
            "Successfully installed cnn_hpo_carbon-0.1\n"
          ]
        }
      ],
      "source": [
        "!git clone https://github.com/BrouthenKamel/CNN-HPO-Carbon.git\n",
        "\n",
        "%cd CNN-HPO-Carbon\n",
        "\n",
        "!pip install -e ."
      ]
    },
    {
      "cell_type": "markdown",
      "source": [
        "# Scripts"
      ],
      "metadata": {
        "id": "glKxkTRs4uWt"
      }
    },
    {
      "cell_type": "code",
      "source": [
        "!python scripts/training.py"
      ],
      "metadata": {
        "colab": {
          "base_uri": "https://localhost:8080/"
        },
        "id": "RiMEZpgU21H7",
        "outputId": "ebd81f42-e218-4f04-e844-bbf6b3c3d0ba"
      },
      "execution_count": 2,
      "outputs": [
        {
          "output_type": "stream",
          "name": "stdout",
          "text": [
            "100% 170M/170M [00:13<00:00, 12.5MB/s]\n",
            "\n",
            "Training (RESNET) on (CIFAR10) with pretrained=True\n",
            "Downloading: \"https://download.pytorch.org/models/resnet18-f37072fd.pth\" to /root/.cache/torch/hub/checkpoints/resnet18-f37072fd.pth\n",
            "100% 44.7M/44.7M [00:00<00:00, 211MB/s]\n",
            "Epoch 1 | Train Loss: 0.6291 | Train Accuracy: 79.79%\n",
            "Finished Training\n",
            "Evaluating: 100% 157/157 [00:24<00:00,  6.28it/s]\n",
            "Test Loss: 0.5170 | Test Accuracy: 82.16%\n",
            "Training time: 4.16 minutes\n",
            "====================\n",
            "\n",
            "Training (RESNET) on (CIFAR10) with pretrained=False\n",
            "Epoch 1 | Train Loss: 1.3295 | Train Accuracy: 52.44%\n",
            "Finished Training\n",
            "Evaluating: 100% 157/157 [00:25<00:00,  6.22it/s]\n",
            "Test Loss: 1.3399 | Test Accuracy: 55.62%\n",
            "Training time: 4.16 minutes\n",
            "====================\n",
            "\n",
            "Training (EFFICIENTNET) on (CIFAR10) with pretrained=True\n",
            "Downloading: \"https://download.pytorch.org/models/efficientnet_b0_rwightman-7f5810bc.pth\" to /root/.cache/torch/hub/checkpoints/efficientnet_b0_rwightman-7f5810bc.pth\n",
            "100% 20.5M/20.5M [00:00<00:00, 218MB/s]\n",
            "Epoch 1 | Train Loss: 0.4239 | Train Accuracy: 86.95%\n",
            "Finished Training\n",
            "Evaluating: 100% 157/157 [00:28<00:00,  5.48it/s]\n",
            "Test Loss: 0.2251 | Test Accuracy: 92.38%\n",
            "Training time: 5.77 minutes\n",
            "====================\n",
            "\n",
            "Training (EFFICIENTNET) on (CIFAR10) with pretrained=False\n",
            "Epoch 1 | Train Loss: 1.4382 | Train Accuracy: 49.07%\n",
            "Finished Training\n",
            "Evaluating: 100% 157/157 [00:27<00:00,  5.62it/s]\n",
            "Test Loss: 1.0285 | Test Accuracy: 63.32%\n",
            "Training time: 5.74 minutes\n",
            "====================\n",
            "\n",
            "Training (MOBILENET) on (CIFAR10) with pretrained=True\n",
            "Downloading: \"https://download.pytorch.org/models/mobilenet_v3_small-047dcff4.pth\" to /root/.cache/torch/hub/checkpoints/mobilenet_v3_small-047dcff4.pth\n",
            "100% 9.83M/9.83M [00:00<00:00, 204MB/s]\n",
            "Epoch 1 | Train Loss: 0.4754 | Train Accuracy: 84.90%\n",
            "Finished Training\n",
            "Evaluating: 100% 157/157 [00:21<00:00,  7.42it/s]\n",
            "Test Loss: 0.3338 | Test Accuracy: 88.53%\n",
            "Training time: 2.56 minutes\n",
            "====================\n",
            "\n",
            "Training (MOBILENET) on (CIFAR10) with pretrained=False\n",
            "Epoch 1 | Train Loss: 1.4267 | Train Accuracy: 48.76%\n",
            "Finished Training\n",
            "Evaluating: 100% 157/157 [00:21<00:00,  7.38it/s]\n",
            "Test Loss: 1.3144 | Test Accuracy: 57.85%\n",
            "Training time: 2.60 minutes\n",
            "====================\n",
            "\n",
            "Training (DENSENET) on (CIFAR10) with pretrained=True\n",
            "Downloading: \"https://download.pytorch.org/models/densenet121-a639ec97.pth\" to /root/.cache/torch/hub/checkpoints/densenet121-a639ec97.pth\n",
            "100% 30.8M/30.8M [00:00<00:00, 206MB/s]\n",
            "Epoch 1 | Train Loss: 0.5591 | Train Accuracy: 82.00%\n",
            "Finished Training\n",
            "Evaluating: 100% 157/157 [00:47<00:00,  3.32it/s]\n",
            "Test Loss: 0.4351 | Test Accuracy: 85.69%\n",
            "Training time: 10.56 minutes\n",
            "====================\n",
            "\n",
            "Training (DENSENET) on (CIFAR10) with pretrained=False\n",
            "Epoch 1 | Train Loss: 1.3741 | Train Accuracy: 50.71%\n",
            "Finished Training\n",
            "Evaluating: 100% 157/157 [00:47<00:00,  3.31it/s]\n",
            "Test Loss: 1.1887 | Test Accuracy: 56.05%\n",
            "Training time: 10.57 minutes\n",
            "====================\n",
            "\n",
            "Training (REGNET) on (CIFAR10) with pretrained=True\n",
            "Downloading: \"https://download.pytorch.org/models/regnet_y_400mf-c65dace8.pth\" to /root/.cache/torch/hub/checkpoints/regnet_y_400mf-c65dace8.pth\n",
            "100% 16.8M/16.8M [00:00<00:00, 127MB/s]\n",
            "Epoch 1 | Train Loss: 0.4462 | Train Accuracy: 86.10%\n",
            "Finished Training\n",
            "Evaluating: 100% 157/157 [00:25<00:00,  6.18it/s]\n",
            "Test Loss: 0.2969 | Test Accuracy: 89.88%\n",
            "Training time: 4.56 minutes\n",
            "====================\n",
            "\n",
            "Training (REGNET) on (CIFAR10) with pretrained=False\n",
            "Epoch 1 | Train Loss: 1.4682 | Train Accuracy: 46.97%\n",
            "Finished Training\n",
            "Evaluating: 100% 157/157 [00:25<00:00,  6.11it/s]\n",
            "Test Loss: 1.2201 | Test Accuracy: 56.47%\n",
            "Training time: 4.56 minutes\n",
            "====================\n",
            "\n",
            "Training (SQUEEZENET) on (CIFAR10) with pretrained=True\n",
            "Downloading: \"https://download.pytorch.org/models/squeezenet1_0-b66bff10.pth\" to /root/.cache/torch/hub/checkpoints/squeezenet1_0-b66bff10.pth\n",
            "100% 4.78M/4.78M [00:00<00:00, 131MB/s]\n",
            "Epoch 1 | Train Loss: 1.6482 | Train Accuracy: 40.49%\n",
            "Finished Training\n",
            "Evaluating: 100% 157/157 [00:27<00:00,  5.81it/s]\n",
            "Test Loss: 1.2044 | Test Accuracy: 55.55%\n",
            "Training time: 4.08 minutes\n",
            "====================\n",
            "\n",
            "Training (SQUEEZENET) on (CIFAR10) with pretrained=False\n",
            "Epoch 1 | Train Loss: 1.8678 | Train Accuracy: 30.12%\n",
            "Finished Training\n",
            "Evaluating: 100% 157/157 [00:27<00:00,  5.80it/s]\n",
            "Test Loss: 1.5843 | Test Accuracy: 41.43%\n",
            "Training time: 4.08 minutes\n",
            "====================\n",
            "\n",
            "Training (VGG) on (CIFAR10) with pretrained=True\n",
            "Downloading: \"https://download.pytorch.org/models/vgg11_bn-6002323d.pth\" to /root/.cache/torch/hub/checkpoints/vgg11_bn-6002323d.pth\n",
            "100% 507M/507M [00:06<00:00, 87.2MB/s]\n",
            "Epoch 1 | Train Loss: 1.3774 | Train Accuracy: 50.02%\n",
            "Finished Training\n",
            "Evaluating: 100% 157/157 [00:45<00:00,  3.47it/s]\n",
            "Test Loss: 1.4773 | Test Accuracy: 56.56%\n",
            "Training time: 9.46 minutes\n",
            "====================\n",
            "\n",
            "Training (VGG) on (CIFAR10) with pretrained=False\n",
            "Epoch 1 | Train Loss: 2.4707 | Train Accuracy: 19.25%\n",
            "Finished Training\n",
            "Evaluating: 100% 157/157 [00:45<00:00,  3.48it/s]\n",
            "Test Loss: 1.8457 | Test Accuracy: 30.76%\n",
            "Training time: 9.49 minutes\n",
            "====================\n"
          ]
        }
      ]
    }
  ]
}