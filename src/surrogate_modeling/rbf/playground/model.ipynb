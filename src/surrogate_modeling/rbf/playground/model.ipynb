{
 "cells": [
  {
   "cell_type": "markdown",
   "id": "95e53e98",
   "metadata": {},
   "source": [
    "# modules"
   ]
  },
  {
   "cell_type": "code",
   "execution_count": 1,
   "id": "201579ce",
   "metadata": {},
   "outputs": [],
   "source": [
    "import numpy as np\n",
    "import pandas as pd\n",
    "\n",
    "from sklearn.gaussian_process import GaussianProcessRegressor\n",
    "from sklearn.gaussian_process.kernels import RBF, ConstantKernel as C\n",
    "from sklearn.decomposition import PCA\n",
    "\n",
    "from sklearn.model_selection import train_test_split\n",
    "from sklearn.metrics import mean_squared_error\n",
    "\n",
    "from sklearn.preprocessing import StandardScaler\n",
    "from sklearn.feature_selection import VarianceThreshold\n",
    "\n",
    "import matplotlib.pyplot as plt"
   ]
  },
  {
   "cell_type": "markdown",
   "id": "36ce1779",
   "metadata": {},
   "source": [
    "# data"
   ]
  },
  {
   "cell_type": "code",
   "execution_count": 2,
   "id": "af08d4e8",
   "metadata": {},
   "outputs": [
    {
     "name": "stdout",
     "output_type": "stream",
     "text": [
      "/c/Users/imed/Desktop/SID/project/CNN-HPO-Carbon/src/surrogate_modeling/rbf/playground\n"
     ]
    }
   ],
   "source": [
    "!pwd"
   ]
  },
  {
   "cell_type": "code",
   "execution_count": 8,
   "id": "3c96463b",
   "metadata": {},
   "outputs": [],
   "source": [
    "df = pd.read_csv('../../../../dataset/surrogate.csv')"
   ]
  },
  {
   "cell_type": "markdown",
   "id": "c6a19c5f",
   "metadata": {},
   "source": [
    "# process"
   ]
  },
  {
   "cell_type": "code",
   "execution_count": 9,
   "id": "43bd4857",
   "metadata": {},
   "outputs": [],
   "source": [
    "cat_cols = df.select_dtypes(include=['object']).columns"
   ]
  },
  {
   "cell_type": "code",
   "execution_count": 10,
   "id": "fbe1430f",
   "metadata": {},
   "outputs": [],
   "source": [
    "df = pd.get_dummies(df, columns=cat_cols)"
   ]
  },
  {
   "cell_type": "markdown",
   "id": "4086e218",
   "metadata": {},
   "source": [
    "# split"
   ]
  },
  {
   "cell_type": "code",
   "execution_count": 23,
   "id": "a9910c67",
   "metadata": {},
   "outputs": [],
   "source": [
    "X = df.drop(columns=['train_accuracy', 'test_accuracy'])\n",
    "y = df['test_accuracy']\n",
    "y_ = df['train_accuracy']"
   ]
  },
  {
   "cell_type": "code",
   "execution_count": 24,
   "id": "2aca1cee",
   "metadata": {},
   "outputs": [
    {
     "data": {
      "text/plain": [
       "((63, 123), (63,))"
      ]
     },
     "execution_count": 24,
     "metadata": {},
     "output_type": "execute_result"
    }
   ],
   "source": [
    "X.shape, y.shape"
   ]
  },
  {
   "cell_type": "code",
   "execution_count": 25,
   "id": "267e1a1f",
   "metadata": {},
   "outputs": [
    {
     "data": {
      "text/plain": [
       "(np.float64(71.28746031746032),\n",
       " np.float64(5.23196193641019),\n",
       " np.float64(72.69552380952379),\n",
       " np.float64(5.741509621809161))"
      ]
     },
     "execution_count": 25,
     "metadata": {},
     "output_type": "execute_result"
    }
   ],
   "source": [
    "y.mean(), y.std(), y_.mean(), y_.std()"
   ]
  },
  {
   "cell_type": "code",
   "execution_count": 26,
   "id": "6de7143e",
   "metadata": {},
   "outputs": [],
   "source": [
    "X_train, X_val, y_train, y_val = train_test_split(X, y, test_size=0.1, random_state=42)"
   ]
  },
  {
   "cell_type": "code",
   "execution_count": 15,
   "id": "88845e32",
   "metadata": {},
   "outputs": [],
   "source": [
    "X_train = X\n",
    "X_val = X\n",
    "y_train = y\n",
    "y_val = y"
   ]
  },
  {
   "cell_type": "code",
   "execution_count": 27,
   "id": "267e56ce",
   "metadata": {},
   "outputs": [],
   "source": [
    "selector = VarianceThreshold(threshold=0.01)\n",
    "X_train = selector.fit_transform(X_train)\n",
    "X_val = selector.transform(X_val)"
   ]
  },
  {
   "cell_type": "code",
   "execution_count": 28,
   "id": "fb43aebb",
   "metadata": {},
   "outputs": [],
   "source": [
    "scaler = StandardScaler()\n",
    "X_train = scaler.fit_transform(X_train)\n",
    "X_val = scaler.transform(X_val)"
   ]
  },
  {
   "cell_type": "code",
   "execution_count": 29,
   "id": "3bcceb3f",
   "metadata": {},
   "outputs": [],
   "source": [
    "pca = PCA(n_components=0.9)\n",
    "X_train = pca.fit_transform(X_train)\n",
    "X_val = pca.transform(X_val)"
   ]
  },
  {
   "cell_type": "code",
   "execution_count": 30,
   "id": "acb6495e",
   "metadata": {},
   "outputs": [
    {
     "data": {
      "text/plain": [
       "((56, 32), (7, 32))"
      ]
     },
     "execution_count": 30,
     "metadata": {},
     "output_type": "execute_result"
    }
   ],
   "source": [
    "X_train.shape, X_val.shape"
   ]
  },
  {
   "cell_type": "markdown",
   "id": "f5729ecc",
   "metadata": {},
   "source": [
    "# model"
   ]
  },
  {
   "cell_type": "code",
   "execution_count": 53,
   "id": "c079fa56",
   "metadata": {},
   "outputs": [
    {
     "name": "stdout",
     "output_type": "stream",
     "text": [
      "Fitted kernel: 1**2 * RBF(length_scale=4.08)\n"
     ]
    }
   ],
   "source": [
    "kernel = C(1, (1e-3, 1e3)) * RBF(length_scale=1, length_scale_bounds=(1e-3, 1e3))\n",
    "\n",
    "gpr = GaussianProcessRegressor(kernel=kernel, alpha=1e-3, normalize_y=True, n_restarts_optimizer=200)\n",
    "\n",
    "gpr.fit(X_train, y_train)\n",
    "print(\"Fitted kernel:\", gpr.kernel_)"
   ]
  },
  {
   "cell_type": "code",
   "execution_count": 66,
   "id": "51289290",
   "metadata": {},
   "outputs": [
    {
     "name": "stdout",
     "output_type": "stream",
     "text": [
      "\n",
      "Validation RMSE: 4.3904\n",
      "\n"
     ]
    }
   ],
   "source": [
    "y_pred_val, y_std_val = gpr.predict(X_val, return_std=True)\n",
    "mse = mean_squared_error(y_val, y_pred_val)\n",
    "print(f\"\\nValidation RMSE: {np.sqrt(mse):.4f}\\n\")"
   ]
  },
  {
   "cell_type": "code",
   "execution_count": null,
   "id": "fb6e4bc4",
   "metadata": {},
   "outputs": [],
   "source": [
    "%pip install optuna"
   ]
  },
  {
   "cell_type": "code",
   "execution_count": 67,
   "id": "35961a3b",
   "metadata": {},
   "outputs": [
    {
     "name": "stderr",
     "output_type": "stream",
     "text": [
      "[I 2025-05-03 12:24:13,591] A new study created in memory with name: no-name-dcc7ad00-6407-4618-8880-add069c62eba\n",
      "c:\\Users\\imed\\Desktop\\SID\\ML\\.venv\\Lib\\site-packages\\sklearn\\gaussian_process\\kernels.py:442: ConvergenceWarning: The optimal value found for dimension 0 of parameter k2__length_scale is close to the specified lower bound 2.9375384576328295e-05. Decreasing the bound and calling fit again may find a better value.\n",
      "  warnings.warn(\n",
      "[I 2025-05-03 12:24:14,251] Trial 0 finished with value: 5.002494330000157 and parameters: {'constant_value': 0.30710573677773717, 'length_scale': 1.7254716573280358, 'alpha': 0.0029106359131330704, 'constant_bound_min': 0.0006251373574521745, 'constant_bound_max': 293.8027938703535, 'len_bound_min': 2.9375384576328295e-05, 'len_bound_max': 149.36568554617628, 'n_restarts': 12}. Best is trial 0 with value: 5.002494330000157.\n",
      "[I 2025-05-03 12:24:14,281] Trial 1 finished with value: 5.002494330000157 and parameters: {'constant_value': 0.6054365855469247, 'length_scale': 0.8341106432362085, 'alpha': 0.00010994335574766199, 'constant_bound_min': 0.008123245085588688, 'constant_bound_max': 31428.80890840109, 'len_bound_min': 4.335281794951564e-05, 'len_bound_max': 351.13563139704075, 'n_restarts': 1}. Best is trial 0 with value: 5.002494330000157.\n",
      "[I 2025-05-03 12:24:14,341] Trial 2 finished with value: 5.002494330000157 and parameters: {'constant_value': 0.24878734419814433, 'length_scale': 0.4816414530907084, 'alpha': 0.0007309539835912913, 'constant_bound_min': 7.476312062252303e-05, 'constant_bound_max': 6847.920095574778, 'len_bound_min': 2.621087878265438e-05, 'len_bound_max': 752.3742884534855, 'n_restarts': 2}. Best is trial 0 with value: 5.002494330000157.\n",
      "[I 2025-05-03 12:24:14,416] Trial 3 finished with value: 5.002494330000067 and parameters: {'constant_value': 0.3920673972242137, 'length_scale': 1.0508421338691765, 'alpha': 0.00025081156860452336, 'constant_bound_min': 0.0003489018845491386, 'constant_bound_max': 5987.474910461394, 'len_bound_min': 1.3783237455007187e-05, 'len_bound_max': 6647.135865318029, 'n_restarts': 1}. Best is trial 3 with value: 5.002494330000067.\n",
      "[I 2025-05-03 12:24:14,519] Trial 4 finished with value: 4.392930578135105 and parameters: {'constant_value': 0.12151617026673375, 'length_scale': 1.7160445029754816, 'alpha': 0.00853618986286683, 'constant_bound_min': 0.002661901888489057, 'constant_bound_max': 820.0518402245834, 'len_bound_min': 1.9634341572933304e-05, 'len_bound_max': 11290.133559092683, 'n_restarts': 3}. Best is trial 4 with value: 4.392930578135105.\n",
      "[I 2025-05-03 12:24:14,618] Trial 5 finished with value: 4.3900801677124655 and parameters: {'constant_value': 0.14413697528610403, 'length_scale': 0.44079840381692426, 'alpha': 0.00011715937392307068, 'constant_bound_min': 0.00534516611064682, 'constant_bound_max': 597.5027999960295, 'len_bound_min': 0.0009717775305059633, 'len_bound_max': 861.2579192594881, 'n_restarts': 3}. Best is trial 5 with value: 4.3900801677124655.\n",
      "[I 2025-05-03 12:24:14,998] Trial 6 finished with value: 4.393012597545462 and parameters: {'constant_value': 0.5143828405076928, 'length_scale': 0.17398074711291722, 'alpha': 0.00869299151113955, 'constant_bound_min': 0.002115429079726122, 'constant_bound_max': 65841.06160121605, 'len_bound_min': 0.004835952776465951, 'len_bound_max': 6218.704727769077, 'n_restarts': 15}. Best is trial 5 with value: 4.3900801677124655.\n",
      "[I 2025-05-03 12:24:15,081] Trial 7 finished with value: 4.390073942175622 and parameters: {'constant_value': 0.13035611225128876, 'length_scale': 0.1798786347336291, 'alpha': 0.00012315571723666037, 'constant_bound_min': 9.46217535646148e-05, 'constant_bound_max': 1465.6553886225333, 'len_bound_min': 6.516990611177177e-05, 'len_bound_max': 30634.622106220828, 'n_restarts': 2}. Best is trial 7 with value: 4.390073942175622.\n",
      "[I 2025-05-03 12:24:15,131] Trial 8 finished with value: 5.002494330000157 and parameters: {'constant_value': 0.2320086750475682, 'length_scale': 0.5082341959721458, 'alpha': 0.00019135880487692312, 'constant_bound_min': 0.002550298070162891, 'constant_bound_max': 167.3601016782578, 'len_bound_min': 0.009133995846860976, 'len_bound_max': 20736.445177905032, 'n_restarts': 1}. Best is trial 7 with value: 4.390073942175622.\n",
      "[I 2025-05-03 12:24:15,177] Trial 9 finished with value: 5.00249432998422 and parameters: {'constant_value': 0.10166803740022869, 'length_scale': 1.150640824725017, 'alpha': 0.002592475660475161, 'constant_bound_min': 0.0015382308040279, 'constant_bound_max': 20597.335357437194, 'len_bound_min': 1.667761543019792e-05, 'len_bound_max': 1189.5896737553549, 'n_restarts': 1}. Best is trial 7 with value: 4.390073942175622.\n",
      "[I 2025-05-03 12:24:15,398] Trial 10 finished with value: 4.390207912032371 and parameters: {'constant_value': 1.6968794650474472, 'length_scale': 0.10181283131439631, 'alpha': 0.0005463331403485196, 'constant_bound_min': 1.1321021804230373e-05, 'constant_bound_max': 1824.7863539392083, 'len_bound_min': 0.00013831805735878836, 'len_bound_max': 81810.70694428559, 'n_restarts': 6}. Best is trial 7 with value: 4.390073942175622.\n",
      "[I 2025-05-03 12:24:15,582] Trial 11 finished with value: 4.390073963906265 and parameters: {'constant_value': 0.17168620075953953, 'length_scale': 0.250071284806363, 'alpha': 0.00010751529013937915, 'constant_bound_min': 7.731462247214047e-05, 'constant_bound_max': 720.3821205189785, 'len_bound_min': 0.0011386377158482397, 'len_bound_max': 1955.4248748424698, 'n_restarts': 5}. Best is trial 7 with value: 4.390073942175622.\n",
      "[I 2025-05-03 12:24:15,783] Trial 12 finished with value: 5.002494330000157 and parameters: {'constant_value': 0.17375334315313834, 'length_scale': 0.21169631081021964, 'alpha': 0.0003284733592423619, 'constant_bound_min': 8.433946300384489e-05, 'constant_bound_max': 1948.35919119966, 'len_bound_min': 0.0004983588173330906, 'len_bound_max': 58687.384708890015, 'n_restarts': 6}. Best is trial 7 with value: 4.390073942175622.\n",
      "[I 2025-05-03 12:24:15,974] Trial 13 finished with value: 4.390071391653593 and parameters: {'constant_value': 0.817021656635157, 'length_scale': 0.2221915768989642, 'alpha': 0.00010149392988134739, 'constant_bound_min': 4.8019433799281865e-05, 'constant_bound_max': 625.0135461599842, 'len_bound_min': 0.00013953955237798986, 'len_bound_max': 2062.483593181909, 'n_restarts': 6}. Best is trial 13 with value: 4.390071391653593.\n",
      "[I 2025-05-03 12:24:16,061] Trial 14 finished with value: 4.390490372200533 and parameters: {'constant_value': 0.970631469214057, 'length_scale': 0.11942416876875481, 'alpha': 0.0013368010480905718, 'constant_bound_min': 2.167346510977337e-05, 'constant_bound_max': 109.50172157239297, 'len_bound_min': 0.00013758435775729268, 'len_bound_max': 26558.1673599174, 'n_restarts': 2}. Best is trial 13 with value: 4.390071391653593.\n",
      "[I 2025-05-03 12:24:16,258] Trial 15 finished with value: 4.390163170085349 and parameters: {'constant_value': 0.8641705275819357, 'length_scale': 0.30574302241039747, 'alpha': 0.00036930283574765355, 'constant_bound_min': 3.45744121495391e-05, 'constant_bound_max': 4061.8521624423356, 'len_bound_min': 0.00010492183897376906, 'len_bound_max': 3566.782220374093, 'n_restarts': 10}. Best is trial 13 with value: 4.390071391653593.\n",
      "[I 2025-05-03 12:24:16,336] Trial 16 finished with value: 4.390060368118101 and parameters: {'constant_value': 1.6588044475131025, 'length_scale': 0.15669462279349058, 'alpha': 0.0001793817109704002, 'constant_bound_min': 0.00017391856919052323, 'constant_bound_max': 284.45604852858605, 'len_bound_min': 6.160226769941005e-05, 'len_bound_max': 29537.4141586356, 'n_restarts': 2}. Best is trial 16 with value: 4.390060368118101.\n",
      "[I 2025-05-03 12:24:16,496] Trial 17 finished with value: 4.390101812913856 and parameters: {'constant_value': 1.941330807100913, 'length_scale': 0.12825549061524735, 'alpha': 0.0001868487706034805, 'constant_bound_min': 0.00026536647565801987, 'constant_bound_max': 302.87521069948224, 'len_bound_min': 0.00029197517272407087, 'len_bound_max': 2677.741890144344, 'n_restarts': 8}. Best is trial 16 with value: 4.390060368118101.\n",
      "[I 2025-05-03 12:24:16,882] Trial 18 finished with value: 4.39019548852503 and parameters: {'constant_value': 1.3241506616705372, 'length_scale': 0.3631040320811104, 'alpha': 0.0004686858755689927, 'constant_bound_min': 0.0001517322720080944, 'constant_bound_max': 340.13174891907767, 'len_bound_min': 0.00033138189003816584, 'len_bound_max': 10168.805007990619, 'n_restarts': 20}. Best is trial 16 with value: 4.390060368118101.\n",
      "[I 2025-05-03 12:24:16,992] Trial 19 finished with value: 5.002494330000157 and parameters: {'constant_value': 0.8428987859170712, 'length_scale': 0.1541050118099486, 'alpha': 0.0012622311438484168, 'constant_bound_min': 2.9090649829182283e-05, 'constant_bound_max': 107.41607705812201, 'len_bound_min': 5.4429735798330566e-05, 'len_bound_max': 345.28436535955876, 'n_restarts': 4}. Best is trial 16 with value: 4.390060368118101.\n",
      "[I 2025-05-03 12:24:17,118] Trial 20 finished with value: 4.3900763662947275 and parameters: {'constant_value': 1.2981350948717638, 'length_scale': 0.2741564932172017, 'alpha': 0.000183031208814982, 'constant_bound_min': 0.0005065576756544429, 'constant_bound_max': 451.645944500943, 'len_bound_min': 0.002139262212870144, 'len_bound_max': 3906.5258915461523, 'n_restarts': 2}. Best is trial 16 with value: 4.390060368118101.\n",
      "[I 2025-05-03 12:24:17,241] Trial 21 finished with value: 4.390089511699297 and parameters: {'constant_value': 0.663521573178148, 'length_scale': 0.1976258369395704, 'alpha': 0.00014817356772012363, 'constant_bound_min': 0.00016739859217523533, 'constant_bound_max': 1400.6007544597755, 'len_bound_min': 7.492642695531779e-05, 'len_bound_max': 34364.358762083524, 'n_restarts': 2}. Best is trial 16 with value: 4.390060368118101.\n",
      "[I 2025-05-03 12:24:17,370] Trial 22 finished with value: 4.390139008420966 and parameters: {'constant_value': 1.2570151917911352, 'length_scale': 0.14806378651526653, 'alpha': 0.00027794830964293735, 'constant_bound_min': 4.670233320672253e-05, 'constant_bound_max': 1183.9521790889667, 'len_bound_min': 0.0002396124747872774, 'len_bound_max': 16176.302658366709, 'n_restarts': 3}. Best is trial 16 with value: 4.390060368118101.\n",
      "[I 2025-05-03 12:24:17,544] Trial 23 finished with value: 4.390088997163467 and parameters: {'constant_value': 0.4244912030215182, 'length_scale': 0.23697220316926756, 'alpha': 0.00015120276272035264, 'constant_bound_min': 0.0001391677307906108, 'constant_bound_max': 3165.596655186832, 'len_bound_min': 5.08275959930046e-05, 'len_bound_max': 99516.93340902579, 'n_restarts': 4}. Best is trial 16 with value: 4.390060368118101.\n",
      "[I 2025-05-03 12:24:17,612] Trial 24 finished with value: 5.002494330000157 and parameters: {'constant_value': 1.0093420687472865, 'length_scale': 0.338482447067461, 'alpha': 0.00023554738906501478, 'constant_bound_min': 1.6344160326182446e-05, 'constant_bound_max': 210.93132550225553, 'len_bound_min': 9.778452527654669e-05, 'len_bound_max': 46630.41261694731, 'n_restarts': 2}. Best is trial 16 with value: 4.390060368118101.\n",
      "[I 2025-05-03 12:24:17,767] Trial 25 finished with value: 4.390077157038511 and parameters: {'constant_value': 1.6020024422364836, 'length_scale': 0.18333370018449566, 'alpha': 0.00011638945893669686, 'constant_bound_min': 4.929785927268734e-05, 'constant_bound_max': 908.7868090016506, 'len_bound_min': 0.0002057931981490528, 'len_bound_max': 1594.796543064993, 'n_restarts': 7}. Best is trial 16 with value: 4.390060368118101.\n",
      "[I 2025-05-03 12:24:17,880] Trial 26 finished with value: 4.390283079393687 and parameters: {'constant_value': 0.675170104211782, 'length_scale': 0.6194999665220532, 'alpha': 0.0007406126591934747, 'constant_bound_min': 0.0008448952528458092, 'constant_bound_max': 527.2900743139776, 'len_bound_min': 0.0005686381268103314, 'len_bound_max': 6508.9461629316775, 'n_restarts': 4}. Best is trial 16 with value: 4.390060368118101.\n",
      "[I 2025-05-03 12:24:17,979] Trial 27 finished with value: 4.390182351146577 and parameters: {'constant_value': 0.30413970360092474, 'length_scale': 0.12814794433544446, 'alpha': 0.00044075396538043965, 'constant_bound_min': 0.00022869755269009864, 'constant_bound_max': 10435.277930633547, 'len_bound_min': 1.1007600886647209e-05, 'len_bound_max': 12979.164430744375, 'n_restarts': 3}. Best is trial 16 with value: 4.390060368118101.\n",
      "[I 2025-05-03 12:24:18,151] Trial 28 finished with value: 4.390087999044966 and parameters: {'constant_value': 1.112291353005685, 'length_scale': 0.10007855266551123, 'alpha': 0.00015147139756858117, 'constant_bound_min': 0.00010583925067396108, 'constant_bound_max': 2363.404429758057, 'len_bound_min': 3.441269351629269e-05, 'len_bound_max': 34898.70837939293, 'n_restarts': 9}. Best is trial 16 with value: 4.390060368118101.\n",
      "[I 2025-05-03 12:24:18,348] Trial 29 finished with value: 4.39083075198622 and parameters: {'constant_value': 0.35066263431073136, 'length_scale': 0.165960631651223, 'alpha': 0.0023277482771848737, 'constant_bound_min': 0.0006161555241888932, 'constant_bound_max': 199.557487253194, 'len_bound_min': 7.590071622036061e-05, 'len_bound_max': 312.2328621443124, 'n_restarts': 13}. Best is trial 16 with value: 4.390060368118101.\n",
      "[I 2025-05-03 12:24:18,445] Trial 30 finished with value: 5.002494330000157 and parameters: {'constant_value': 0.5453316818712955, 'length_scale': 0.2289653515100628, 'alpha': 0.00010247489346030003, 'constant_bound_min': 5.196115556687575e-05, 'constant_bound_max': 1070.5269107530053, 'len_bound_min': 0.0001672750786752741, 'len_bound_max': 134.34934091716428, 'n_restarts': 5}. Best is trial 16 with value: 4.390060368118101.\n",
      "[I 2025-05-03 12:24:18,610] Trial 31 finished with value: 4.390071881777775 and parameters: {'constant_value': 0.17494919399873582, 'length_scale': 0.25373503221351085, 'alpha': 0.00013998935548714057, 'constant_bound_min': 7.609116657967897e-05, 'constant_bound_max': 608.4789282740693, 'len_bound_min': 0.001532302272257222, 'len_bound_max': 2054.633886625892, 'n_restarts': 5}. Best is trial 16 with value: 4.390060368118101.\n",
      "[I 2025-05-03 12:24:18,735] Trial 32 finished with value: 4.390109608944156 and parameters: {'constant_value': 0.20488981456792527, 'length_scale': 0.3899025151774053, 'alpha': 0.00021131626348019336, 'constant_bound_min': 0.000108128778747731, 'constant_bound_max': 428.5919793513444, 'len_bound_min': 0.0015672159299408362, 'len_bound_max': 615.2379227086614, 'n_restarts': 4}. Best is trial 16 with value: 4.390060368118101.\n",
      "[I 2025-05-03 12:24:18,875] Trial 33 finished with value: 4.390075387062686 and parameters: {'constant_value': 0.1004411184114659, 'length_scale': 0.29898950673881514, 'alpha': 0.00014061775037384192, 'constant_bound_min': 0.00021999142535304066, 'constant_bound_max': 277.68157311917054, 'len_bound_min': 0.0034937230331944934, 'len_bound_max': 2292.5377342433703, 'n_restarts': 5}. Best is trial 16 with value: 4.390060368118101.\n",
      "[I 2025-05-03 12:24:19,036] Trial 34 finished with value: 4.391739535086307 and parameters: {'constant_value': 0.1349284775108448, 'length_scale': 0.20246696068026052, 'alpha': 0.004987321731783101, 'constant_bound_min': 0.0003504750882763159, 'constant_bound_max': 643.6637876352648, 'len_bound_min': 2.8216787938044298e-05, 'len_bound_max': 4905.916075820196, 'n_restarts': 2}. Best is trial 16 with value: 4.390060368118101.\n",
      "[I 2025-05-03 12:24:19,419] Trial 35 finished with value: 4.390126318996803 and parameters: {'constant_value': 0.2560579494776358, 'length_scale': 0.1475260579395802, 'alpha': 0.0002693090273670762, 'constant_bound_min': 3.54087638623543e-05, 'constant_bound_max': 1402.0820609367918, 'len_bound_min': 0.00038825172934423273, 'len_bound_max': 1235.7744240190277, 'n_restarts': 7}. Best is trial 16 with value: 4.390060368118101.\n",
      "[I 2025-05-03 12:24:19,657] Trial 36 finished with value: 4.390087572317572 and parameters: {'constant_value': 0.17275197623362212, 'length_scale': 0.2642014266650341, 'alpha': 0.00013932422304222368, 'constant_bound_min': 7.15665933753395e-05, 'constant_bound_max': 5187.177140125927, 'len_bound_min': 0.0007921497505696328, 'len_bound_max': 537.7044905569489, 'n_restarts': 10}. Best is trial 16 with value: 4.390060368118101.\n",
      "[I 2025-05-03 12:24:19,750] Trial 37 finished with value: 4.390062138606957 and parameters: {'constant_value': 0.11761089544639276, 'length_scale': 0.18077721702515445, 'alpha': 0.00010088362425677319, 'constant_bound_min': 2.154336899794532e-05, 'constant_bound_max': 2660.0681788155775, 'len_bound_min': 4.6068118945640304e-05, 'len_bound_max': 8856.683270378428, 'n_restarts': 3}. Best is trial 16 with value: 4.390060368118101.\n",
      "[I 2025-05-03 12:24:19,849] Trial 38 finished with value: 4.390108074125551 and parameters: {'constant_value': 0.117560160754782, 'length_scale': 0.5751842063713605, 'alpha': 0.0001777780012896308, 'constant_bound_min': 1.1340109040498574e-05, 'constant_bound_max': 9703.60003419932, 'len_bound_min': 4.219921630442346e-05, 'len_bound_max': 9426.334622435505, 'n_restarts': 3}. Best is trial 16 with value: 4.390060368118101.\n",
      "[I 2025-05-03 12:24:19,983] Trial 39 finished with value: 5.002494330000157 and parameters: {'constant_value': 0.7825659186025007, 'length_scale': 0.410010325067182, 'alpha': 0.00010245971156001556, 'constant_bound_min': 1.978333475509012e-05, 'constant_bound_max': 87003.31776006182, 'len_bound_min': 2.247071353410604e-05, 'len_bound_max': 233.12621698688423, 'n_restarts': 6}. Best is trial 16 with value: 4.390060368118101.\n",
      "[I 2025-05-03 12:24:20,089] Trial 40 finished with value: 4.390135971212237 and parameters: {'constant_value': 0.4924725068518602, 'length_scale': 0.11901183142360046, 'alpha': 0.0003239832156424842, 'constant_bound_min': 6.453190318741727e-05, 'constant_bound_max': 2777.367742038498, 'len_bound_min': 0.00010060655392376046, 'len_bound_max': 8020.744926865887, 'n_restarts': 4}. Best is trial 16 with value: 4.390060368118101.\n",
      "[I 2025-05-03 12:24:20,189] Trial 41 finished with value: 4.390048527811793 and parameters: {'constant_value': 0.1502715635506891, 'length_scale': 0.17882598852172174, 'alpha': 0.00012854050138515595, 'constant_bound_min': 2.7089921867974194e-05, 'constant_bound_max': 1808.6105978783185, 'len_bound_min': 6.574313320481324e-05, 'len_bound_max': 19578.860176024107, 'n_restarts': 3}. Best is trial 41 with value: 4.390048527811793.\n",
      "[I 2025-05-03 12:24:20,282] Trial 42 finished with value: 4.390112209078928 and parameters: {'constant_value': 0.14851636505720148, 'length_scale': 0.21462836584501285, 'alpha': 0.00021940525540569742, 'constant_bound_min': 2.660196754406397e-05, 'constant_bound_max': 838.5000397700475, 'len_bound_min': 3.5896659207472846e-05, 'len_bound_max': 14748.072595432828, 'n_restarts': 3}. Best is trial 41 with value: 4.390048527811793.\n",
      "[I 2025-05-03 12:24:20,404] Trial 43 finished with value: 4.3900791319491645 and parameters: {'constant_value': 0.20359951875637958, 'length_scale': 0.17134835357423098, 'alpha': 0.00012787155927758404, 'constant_bound_min': 1.628431224876359e-05, 'constant_bound_max': 4172.046956956372, 'len_bound_min': 6.548149861068912e-05, 'len_bound_max': 19237.66806703083, 'n_restarts': 5}. Best is trial 41 with value: 4.390048527811793.\n",
      "[I 2025-05-03 12:24:20,536] Trial 44 finished with value: 4.390078229445829 and parameters: {'constant_value': 0.11475006619800457, 'length_scale': 0.13887106457590848, 'alpha': 0.00016655232854694043, 'constant_bound_min': 4.45981397625346e-05, 'constant_bound_max': 405.06491550895936, 'len_bound_min': 1.5562769384263217e-05, 'len_bound_max': 22867.66351608793, 'n_restarts': 7}. Best is trial 41 with value: 4.390048527811793.\n",
      "[I 2025-05-03 12:24:20,631] Trial 45 finished with value: 4.390074766990786 and parameters: {'constant_value': 0.1519193255806706, 'length_scale': 0.19048123665207742, 'alpha': 0.0001025129604821516, 'constant_bound_min': 1.4263801973258197e-05, 'constant_bound_max': 1944.942357615675, 'len_bound_min': 0.00676298688076799, 'len_bound_max': 4972.215461195687, 'n_restarts': 3}. Best is trial 41 with value: 4.390048527811793.\n",
      "[I 2025-05-03 12:24:20,748] Trial 46 finished with value: 4.390074509145992 and parameters: {'constant_value': 0.30266368731634974, 'length_scale': 0.3078778897613803, 'alpha': 0.0001243661488819298, 'constant_bound_min': 2.4390104417869972e-05, 'constant_bound_max': 618.3028303219479, 'len_bound_min': 0.00013656174969031197, 'len_bound_max': 48020.42853129263, 'n_restarts': 5}. Best is trial 41 with value: 4.390048527811793.\n",
      "c:\\Users\\imed\\Desktop\\SID\\ML\\.venv\\Lib\\site-packages\\sklearn\\gaussian_process\\kernels.py:442: ConvergenceWarning: The optimal value found for dimension 0 of parameter k2__length_scale is close to the specified lower bound 2.4903561649322033e-05. Decreasing the bound and calling fit again may find a better value.\n",
      "  warnings.warn(\n",
      "[I 2025-05-03 12:24:20,807] Trial 47 finished with value: 5.002494330000157 and parameters: {'constant_value': 0.2152926379002996, 'length_scale': 0.2455863184049291, 'alpha': 0.0006705935845754681, 'constant_bound_min': 0.006215464679232558, 'constant_bound_max': 9277.799203465034, 'len_bound_min': 2.4903561649322033e-05, 'len_bound_max': 925.5925745492164, 'n_restarts': 1}. Best is trial 41 with value: 4.390048527811793.\n",
      "[I 2025-05-03 12:24:20,948] Trial 48 finished with value: 4.39012377538577 and parameters: {'constant_value': 0.2599760263460731, 'length_scale': 1.3369001305432875, 'alpha': 0.0002549096892893244, 'constant_bound_min': 6.082388110371608e-05, 'constant_bound_max': 239.88646107497283, 'len_bound_min': 0.0028384768934115057, 'len_bound_max': 2090.9019165244836, 'n_restarts': 6}. Best is trial 41 with value: 4.390048527811793.\n",
      "[I 2025-05-03 12:24:21,047] Trial 49 finished with value: 4.390105499434177 and parameters: {'constant_value': 1.564614482810745, 'length_scale': 0.7322708240058776, 'alpha': 0.00020529434985012293, 'constant_bound_min': 3.630226321644559e-05, 'constant_bound_max': 899.7571950660498, 'len_bound_min': 0.00019514006224581663, 'len_bound_max': 3380.2957581371966, 'n_restarts': 4}. Best is trial 41 with value: 4.390048527811793.\n",
      "[I 2025-05-03 12:24:21,193] Trial 50 finished with value: 4.390079851319329 and parameters: {'constant_value': 0.1600815165314378, 'length_scale': 1.927645374754709, 'alpha': 0.0001240801648362996, 'constant_bound_min': 0.00011823801275121899, 'constant_bound_max': 141.60881604118111, 'len_bound_min': 4.53131780966674e-05, 'len_bound_max': 4898.3791657415895, 'n_restarts': 8}. Best is trial 41 with value: 4.390048527811793.\n",
      "[I 2025-05-03 12:24:21,280] Trial 51 finished with value: 4.390094855294075 and parameters: {'constant_value': 0.1306355231994553, 'length_scale': 0.1633405279901039, 'alpha': 0.00017254682062552872, 'constant_bound_min': 8.063586828888275e-05, 'constant_bound_max': 1626.0235940418413, 'len_bound_min': 6.699255961315346e-05, 'len_bound_max': 35585.861762333465, 'n_restarts': 2}. Best is trial 41 with value: 4.390048527811793.\n",
      "[I 2025-05-03 12:24:21,363] Trial 52 finished with value: 4.390079378753311 and parameters: {'constant_value': 0.10693259373691152, 'length_scale': 0.18280756807334833, 'alpha': 0.00012551716191542972, 'constant_bound_min': 0.0001023842904989704, 'constant_bound_max': 2550.1692991024115, 'len_bound_min': 0.00010016923143954488, 'len_bound_max': 27622.516695503888, 'n_restarts': 2}. Best is trial 41 with value: 4.390048527811793.\n",
      "[I 2025-05-03 12:24:21,423] Trial 53 finished with value: 5.002494330000157 and parameters: {'constant_value': 0.12784276820716808, 'length_scale': 0.1149865681000704, 'alpha': 0.00010221002846857682, 'constant_bound_min': 3.650151075317013e-05, 'constant_bound_max': 3622.9181555391688, 'len_bound_min': 0.00014153742663748167, 'len_bound_max': 68434.18004357307, 'n_restarts': 1}. Best is trial 41 with value: 4.390048527811793.\n",
      "[I 2025-05-03 12:24:21,556] Trial 54 finished with value: 4.390086468894674 and parameters: {'constant_value': 0.16864979884903558, 'length_scale': 0.21806164413378418, 'alpha': 0.00014385954957679033, 'constant_bound_min': 0.00016885902934092218, 'constant_bound_max': 1205.929888401751, 'len_bound_min': 5.717848034096835e-05, 'len_bound_max': 20045.203334230868, 'n_restarts': 6}. Best is trial 41 with value: 4.390048527811793.\n",
      "c:\\Users\\imed\\Desktop\\SID\\ML\\.venv\\Lib\\site-packages\\sklearn\\gaussian_process\\kernels.py:442: ConvergenceWarning: The optimal value found for dimension 0 of parameter k2__length_scale is close to the specified lower bound 8.327265512090594e-05. Decreasing the bound and calling fit again may find a better value.\n",
      "  warnings.warn(\n",
      "[I 2025-05-03 12:24:21,644] Trial 55 finished with value: 5.002494330000157 and parameters: {'constant_value': 0.19655628711071998, 'length_scale': 0.1378190902129858, 'alpha': 0.0017656734755555391, 'constant_bound_min': 0.00037955221788463553, 'constant_bound_max': 348.0373442241998, 'len_bound_min': 8.327265512090594e-05, 'len_bound_max': 1543.7384400736248, 'n_restarts': 3}. Best is trial 41 with value: 4.390048527811793.\n",
      "[I 2025-05-03 12:24:21,751] Trial 56 finished with value: 4.3901397991861115 and parameters: {'constant_value': 0.13776355189389183, 'length_scale': 0.27931804469173815, 'alpha': 0.0003462257700179578, 'constant_bound_min': 1.0250233031500782e-05, 'constant_bound_max': 2067.420846272233, 'len_bound_min': 3.9167683704561756e-05, 'len_bound_max': 12003.412495859295, 'n_restarts': 4}. Best is trial 41 with value: 4.390048527811793.\n",
      "[I 2025-05-03 12:24:21,992] Trial 57 finished with value: 4.392293739002812 and parameters: {'constant_value': 1.820445695716268, 'length_scale': 0.15630809570940388, 'alpha': 0.006600572057368658, 'constant_bound_min': 2.1948466735034658e-05, 'constant_bound_max': 516.8845574617728, 'len_bound_min': 0.00027182116444709423, 'len_bound_max': 2773.723047581348, 'n_restarts': 16}. Best is trial 41 with value: 4.390048527811793.\n",
      "[I 2025-05-03 12:24:22,167] Trial 58 finished with value: 4.390098020935704 and parameters: {'constant_value': 0.18451236872756555, 'length_scale': 0.3436708207621267, 'alpha': 0.0001732239889629545, 'constant_bound_min': 8.500716472294304e-05, 'constant_bound_max': 21745.98255890633, 'len_bound_min': 0.00012443840815305247, 'len_bound_max': 46174.810300278776, 'n_restarts': 8}. Best is trial 41 with value: 4.390048527811793.\n",
      "[I 2025-05-03 12:24:22,257] Trial 59 finished with value: 4.390137011005685 and parameters: {'constant_value': 1.4512124946623748, 'length_scale': 0.19825976861439476, 'alpha': 0.0002921988035220774, 'constant_bound_min': 0.00018704675131883108, 'constant_bound_max': 1500.4999274300274, 'len_bound_min': 2.894929708878875e-05, 'len_bound_max': 8527.23215378155, 'n_restarts': 2}. Best is trial 41 with value: 4.390048527811793.\n",
      "[I 2025-05-03 12:24:22,462] Trial 60 finished with value: 4.390108145979953 and parameters: {'constant_value': 0.3629125463431311, 'length_scale': 0.2456858557448336, 'alpha': 0.000205141857925529, 'constant_bound_min': 2.791820905948864e-05, 'constant_bound_max': 6256.123194508637, 'len_bound_min': 2.0529991835591386e-05, 'len_bound_max': 17330.93279465088, 'n_restarts': 11}. Best is trial 41 with value: 4.390048527811793.\n",
      "[I 2025-05-03 12:24:22,585] Trial 61 finished with value: 4.390077701372858 and parameters: {'constant_value': 0.11844868006045453, 'length_scale': 0.2582726531960598, 'alpha': 0.00011603289297594697, 'constant_bound_min': 0.00012969280657650038, 'constant_bound_max': 740.376489505963, 'len_bound_min': 0.0019804872256832555, 'len_bound_max': 1355.4453532470386, 'n_restarts': 5}. Best is trial 41 with value: 4.390048527811793.\n",
      "c:\\Users\\imed\\Desktop\\SID\\ML\\.venv\\Lib\\site-packages\\sklearn\\gaussian_process\\kernels.py:442: ConvergenceWarning: The optimal value found for dimension 0 of parameter k2__length_scale is close to the specified lower bound 0.0014670507051619214. Decreasing the bound and calling fit again may find a better value.\n",
      "  warnings.warn(\n",
      "[I 2025-05-03 12:24:22,733] Trial 62 finished with value: 5.002494330000157 and parameters: {'constant_value': 0.23513003974537983, 'length_scale': 0.2248809416799573, 'alpha': 0.0001555138004555988, 'constant_bound_min': 5.636282923757067e-05, 'constant_bound_max': 1007.607001572542, 'len_bound_min': 0.0014670507051619214, 'len_bound_max': 26119.161299843745, 'n_restarts': 7}. Best is trial 41 with value: 4.390048527811793.\n",
      "[I 2025-05-03 12:24:22,857] Trial 63 finished with value: 4.390073727407264 and parameters: {'constant_value': 1.0598766016869041, 'length_scale': 0.1790599761242784, 'alpha': 0.00011406153579377838, 'constant_bound_min': 9.091776874244172e-05, 'constant_bound_max': 687.152075680067, 'len_bound_min': 0.0009714926917704275, 'len_bound_max': 1989.6993120206819, 'n_restarts': 5}. Best is trial 41 with value: 4.390048527811793.\n",
      "[I 2025-05-03 12:24:22,962] Trial 64 finished with value: 4.390082393932297 and parameters: {'constant_value': 1.1446406057269503, 'length_scale': 0.1765333165909459, 'alpha': 0.000129866722539867, 'constant_bound_min': 9.044228504171468e-05, 'constant_bound_max': 501.507350218966, 'len_bound_min': 0.0008496270623257198, 'len_bound_max': 874.5836229241396, 'n_restarts': 5}. Best is trial 41 with value: 4.390048527811793.\n",
      "[I 2025-05-03 12:24:23,079] Trial 65 finished with value: 5.002494330000157 and parameters: {'constant_value': 0.7301791034603365, 'length_scale': 0.1399275655244693, 'alpha': 0.00011251911614524358, 'constant_bound_min': 4.680013685767006e-05, 'constant_bound_max': 735.7750874140963, 'len_bound_min': 5.196281935625294e-05, 'len_bound_max': 1975.9633365148732, 'n_restarts': 6}. Best is trial 41 with value: 4.390048527811793.\n",
      "[I 2025-05-03 12:24:23,185] Trial 66 finished with value: 4.390112604108556 and parameters: {'constant_value': 0.8677807083187924, 'length_scale': 0.11423844023585211, 'alpha': 0.00023576745572008426, 'constant_bound_min': 4.017960288569642e-05, 'constant_bound_max': 1211.147670231891, 'len_bound_min': 0.000626627992478757, 'len_bound_max': 2393.066626320913, 'n_restarts': 4}. Best is trial 41 with value: 4.390048527811793.\n",
      "[I 2025-05-03 12:24:23,339] Trial 67 finished with value: 4.390089437815532 and parameters: {'constant_value': 1.020247047712188, 'length_scale': 0.15562430281430725, 'alpha': 0.0001529024382428776, 'constant_bound_min': 6.477201689344888e-05, 'constant_bound_max': 362.6285805539649, 'len_bound_min': 0.00040896630454027844, 'len_bound_max': 4367.548069769029, 'n_restarts': 9}. Best is trial 41 with value: 4.390048527811793.\n",
      "[I 2025-05-03 12:24:23,425] Trial 68 finished with value: 4.390361964088029 and parameters: {'constant_value': 0.6164112883807651, 'length_scale': 0.12968001469807316, 'alpha': 0.0009485997205150896, 'constant_bound_min': 0.00025791837890145404, 'constant_bound_max': 244.8784434214856, 'len_bound_min': 0.0013750630101971052, 'len_bound_max': 1002.6212433052785, 'n_restarts': 3}. Best is trial 41 with value: 4.390048527811793.\n",
      "c:\\Users\\imed\\Desktop\\SID\\ML\\.venv\\Lib\\site-packages\\sklearn\\gaussian_process\\kernels.py:442: ConvergenceWarning: The optimal value found for dimension 0 of parameter k2__length_scale is close to the specified lower bound 8.612078732544221e-05. Decreasing the bound and calling fit again may find a better value.\n",
      "  warnings.warn(\n",
      "[I 2025-05-03 12:24:23,544] Trial 69 finished with value: 5.002494330000157 and parameters: {'constant_value': 1.9828438740474692, 'length_scale': 0.20529192751804837, 'alpha': 0.00019709083366606177, 'constant_bound_min': 3.092048531358778e-05, 'constant_bound_max': 137.86282823610205, 'len_bound_min': 8.612078732544221e-05, 'len_bound_max': 1653.843483322035, 'n_restarts': 6}. Best is trial 41 with value: 4.390048527811793.\n",
      "[I 2025-05-03 12:24:23,705] Trial 70 finished with value: 4.390075102906328 and parameters: {'constant_value': 1.2045109751896315, 'length_scale': 0.17142266664713018, 'alpha': 0.00011397433414448369, 'constant_bound_min': 0.00014959087563977858, 'constant_bound_max': 1751.4748251778794, 'len_bound_min': 0.0010035613925630635, 'len_bound_max': 6164.879648793045, 'n_restarts': 8}. Best is trial 41 with value: 4.390048527811793.\n",
      "[I 2025-05-03 12:24:23,816] Trial 71 finished with value: 4.3900874309649796 and parameters: {'constant_value': 1.4421990938273452, 'length_scale': 0.281385387190021, 'alpha': 0.000137949239283961, 'constant_bound_min': 7.466103590832403e-05, 'constant_bound_max': 634.0942517792746, 'len_bound_min': 0.0010667195925321328, 'len_bound_max': 2960.3861453265417, 'n_restarts': 5}. Best is trial 41 with value: 4.390048527811793.\n",
      "[I 2025-05-03 12:24:23,918] Trial 72 finished with value: 5.002494330000157 and parameters: {'constant_value': 0.15197310018381716, 'length_scale': 0.1913299970899033, 'alpha': 0.0001027131207285187, 'constant_bound_min': 0.00019499502274250121, 'constant_bound_max': 304.1220835518338, 'len_bound_min': 0.0019217730715620335, 'len_bound_max': 30517.801534640435, 'n_restarts': 4}. Best is trial 41 with value: 4.390048527811793.\n",
      "[I 2025-05-03 12:24:24,141] Trial 73 finished with value: 4.391284095600478 and parameters: {'constant_value': 0.14310441053775996, 'length_scale': 0.23867088902958436, 'alpha': 0.0036607361968936155, 'constant_bound_min': 9.718264103722914e-05, 'constant_bound_max': 1040.2979744472486, 'len_bound_min': 0.002521024274552565, 'len_bound_max': 3747.365241548562, 'n_restarts': 7}. Best is trial 41 with value: 4.390048527811793.\n",
      "[I 2025-05-03 12:24:24,260] Trial 74 finished with value: 4.390095858466879 and parameters: {'constant_value': 0.1847816644031937, 'length_scale': 0.3176342050360193, 'alpha': 0.00015874200032944501, 'constant_bound_min': 0.00013808893519605734, 'constant_bound_max': 763.6170649886174, 'len_bound_min': 6.457745351463543e-05, 'len_bound_max': 1673.9655906691332, 'n_restarts': 5}. Best is trial 41 with value: 4.390048527811793.\n",
      "[I 2025-05-03 12:24:24,461] Trial 75 finished with value: 4.390083345000125 and parameters: {'constant_value': 0.10781214455569411, 'length_scale': 0.2106681669000349, 'alpha': 0.00013580824282711517, 'constant_bound_min': 1.7411538450521847e-05, 'constant_bound_max': 426.87982023315175, 'len_bound_min': 0.0013072955985959304, 'len_bound_max': 1169.6071435616566, 'n_restarts': 9}. Best is trial 41 with value: 4.390048527811793.\n",
      "[I 2025-05-03 12:24:24,541] Trial 76 finished with value: 5.002494330000157 and parameters: {'constant_value': 0.9525595583930855, 'length_scale': 0.16138398233066428, 'alpha': 0.00010012507776306761, 'constant_bound_min': 5.174752404437808e-05, 'constant_bound_max': 3083.4480243468092, 'len_bound_min': 0.0006942041130037817, 'len_bound_max': 631.9844870382075, 'n_restarts': 3}. Best is trial 41 with value: 4.390048527811793.\n",
      "[I 2025-05-03 12:24:24,675] Trial 77 finished with value: 4.390051936096063 and parameters: {'constant_value': 0.45473316370072464, 'length_scale': 0.18182260031793834, 'alpha': 0.00011715203895518452, 'constant_bound_min': 0.00011300713558952337, 'constant_bound_max': 1355.2697082539216, 'len_bound_min': 0.0005246155220302219, 'len_bound_max': 38159.79237911256, 'n_restarts': 6}. Best is trial 41 with value: 4.390048527811793.\n",
      "[I 2025-05-03 12:24:24,812] Trial 78 finished with value: 4.390099913820823 and parameters: {'constant_value': 0.6030388834352228, 'length_scale': 0.1475749963789774, 'alpha': 0.00018753341134990678, 'constant_bound_min': 0.0002925322168231234, 'constant_bound_max': 1415.1064941554027, 'len_bound_min': 0.00018630822255038995, 'len_bound_max': 41548.39568975901, 'n_restarts': 6}. Best is trial 41 with value: 4.390048527811793.\n",
      "[I 2025-05-03 12:24:24,975] Trial 79 finished with value: 4.390073470227877 and parameters: {'constant_value': 0.4095229245956984, 'length_scale': 0.18254846917648695, 'alpha': 0.00012455893645354685, 'constant_bound_min': 0.0009062257768225059, 'constant_bound_max': 2204.1374934222904, 'len_bound_min': 0.0004961980427492029, 'len_bound_max': 60143.57653694464, 'n_restarts': 7}. Best is trial 41 with value: 4.390048527811793.\n",
      "[I 2025-05-03 12:24:25,124] Trial 80 finished with value: 4.390076329129481 and parameters: {'constant_value': 0.45596728979320245, 'length_scale': 0.18105183500193492, 'alpha': 0.00011491061642727158, 'constant_bound_min': 0.0011685522485541033, 'constant_bound_max': 4642.8678815785615, 'len_bound_min': 0.0004363256025711913, 'len_bound_max': 23350.08847358095, 'n_restarts': 7}. Best is trial 41 with value: 4.390048527811793.\n",
      "[I 2025-05-03 12:24:25,300] Trial 81 finished with value: 4.3900783404140045 and parameters: {'constant_value': 0.5389803637465449, 'length_scale': 0.18866671353291944, 'alpha': 0.00012802382216247368, 'constant_bound_min': 0.0011598720012504168, 'constant_bound_max': 2399.633412011331, 'len_bound_min': 0.0003597460461031063, 'len_bound_max': 60448.03382472213, 'n_restarts': 9}. Best is trial 41 with value: 4.390048527811793.\n",
      "[I 2025-05-03 12:24:25,473] Trial 82 finished with value: 4.390077709972863 and parameters: {'constant_value': 0.40090649285139973, 'length_scale': 0.10794132063721966, 'alpha': 0.00015965157035684055, 'constant_bound_min': 0.0021383326797185204, 'constant_bound_max': 2001.0744228730218, 'len_bound_min': 0.0004676833673054346, 'len_bound_max': 73669.9092203421, 'n_restarts': 11}. Best is trial 41 with value: 4.390048527811793.\n",
      "c:\\Users\\imed\\Desktop\\SID\\ML\\.venv\\Lib\\site-packages\\sklearn\\gaussian_process\\kernels.py:442: ConvergenceWarning: The optimal value found for dimension 0 of parameter k2__length_scale is close to the specified lower bound 0.0005389470355268133. Decreasing the bound and calling fit again may find a better value.\n",
      "  warnings.warn(\n",
      "[I 2025-05-03 12:24:25,610] Trial 83 finished with value: 5.002494330000157 and parameters: {'constant_value': 0.34039901951939866, 'length_scale': 0.13264561025036561, 'alpha': 0.00011651799402070148, 'constant_bound_min': 0.0005203527880101649, 'constant_bound_max': 3413.160700990921, 'len_bound_min': 0.0005389470355268133, 'len_bound_max': 32333.805471888394, 'n_restarts': 8}. Best is trial 41 with value: 4.390048527811793.\n",
      "[I 2025-05-03 12:24:25,762] Trial 84 finished with value: 4.390085752079382 and parameters: {'constant_value': 0.27727427043623465, 'length_scale': 0.22753205239531377, 'alpha': 0.00014171914919780605, 'constant_bound_min': 0.00042883606159511045, 'constant_bound_max': 2792.1795586056537, 'len_bound_min': 0.0008323454836969199, 'len_bound_max': 39628.476937808075, 'n_restarts': 7}. Best is trial 41 with value: 4.390048527811793.\n",
      "[I 2025-05-03 12:24:25,996] Trial 85 finished with value: 4.390084336174758 and parameters: {'constant_value': 0.12240536187657974, 'length_scale': 0.17009104415076282, 'alpha': 0.00017501705298756098, 'constant_bound_min': 0.00011711960226367758, 'constant_bound_max': 1650.645789748335, 'len_bound_min': 0.00011598775691683573, 'len_bound_max': 91673.83328265772, 'n_restarts': 14}. Best is trial 41 with value: 4.390048527811793.\n",
      "[I 2025-05-03 12:24:26,139] Trial 86 finished with value: 4.3900723563389255 and parameters: {'constant_value': 0.8213324304230546, 'length_scale': 0.1473072729569673, 'alpha': 0.0001160335419538819, 'constant_bound_min': 7.280395384618793e-05, 'constant_bound_max': 1240.7671951057575, 'len_bound_min': 3.3728125243165685e-05, 'len_bound_max': 53690.7960970243, 'n_restarts': 6}. Best is trial 41 with value: 4.390048527811793.\n",
      "[I 2025-05-03 12:24:26,419] Trial 87 finished with value: 4.390114233789044 and parameters: {'constant_value': 0.8048364134151883, 'length_scale': 0.1237968151479928, 'alpha': 0.00022680243261354044, 'constant_bound_min': 0.0039355350612288315, 'constant_bound_max': 1278.2122559194474, 'len_bound_min': 0.00023566973443567147, 'len_bound_max': 56242.46371437483, 'n_restarts': 10}. Best is trial 41 with value: 4.390048527811793.\n",
      "[I 2025-05-03 12:24:26,676] Trial 88 finished with value: 4.390071499719517 and parameters: {'constant_value': 0.9050574354693469, 'length_scale': 0.14319206607069423, 'alpha': 0.00011151927421633384, 'constant_bound_min': 4.3162328890414365e-05, 'constant_bound_max': 995.339310972146, 'len_bound_min': 3.546578465657422e-05, 'len_bound_max': 49806.98154959971, 'n_restarts': 6}. Best is trial 41 with value: 4.390048527811793.\n",
      "[I 2025-05-03 12:24:26,837] Trial 89 finished with value: 4.390078188908887 and parameters: {'constant_value': 0.6965101129869617, 'length_scale': 0.1460977510108501, 'alpha': 0.00013514498460575914, 'constant_bound_min': 3.1899029087297445e-05, 'constant_bound_max': 913.0561949619796, 'len_bound_min': 3.459371065037117e-05, 'len_bound_max': 48972.64021110839, 'n_restarts': 8}. Best is trial 41 with value: 4.390048527811793.\n",
      "[I 2025-05-03 12:24:26,980] Trial 90 finished with value: 4.390071488073422 and parameters: {'constant_value': 0.5874901917326824, 'length_scale': 0.15405872884453425, 'alpha': 0.00010003381350082386, 'constant_bound_min': 2.2971524440379372e-05, 'constant_bound_max': 2206.3795536247612, 'len_bound_min': 1.7404709306101682e-05, 'len_bound_max': 60253.641684086826, 'n_restarts': 6}. Best is trial 41 with value: 4.390048527811793.\n",
      "[I 2025-05-03 12:24:27,123] Trial 91 finished with value: 4.390068625822333 and parameters: {'constant_value': 0.9094557482173661, 'length_scale': 0.14147872560433403, 'alpha': 0.0001007671607145002, 'constant_bound_min': 1.3641034777867012e-05, 'constant_bound_max': 2064.86920469062, 'len_bound_min': 1.2953183031098186e-05, 'len_bound_max': 90224.00571478893, 'n_restarts': 6}. Best is trial 41 with value: 4.390048527811793.\n",
      "[I 2025-05-03 12:24:27,259] Trial 92 finished with value: 4.390071305185021 and parameters: {'constant_value': 0.871541552526255, 'length_scale': 0.1558093665534229, 'alpha': 0.00010040588884805893, 'constant_bound_min': 1.3657168366044164e-05, 'constant_bound_max': 1709.807774465941, 'len_bound_min': 1.0841865371706278e-05, 'len_bound_max': 79507.03789564001, 'n_restarts': 6}. Best is trial 41 with value: 4.390048527811793.\n",
      "[I 2025-05-03 12:24:27,394] Trial 93 finished with value: 4.390069932846677 and parameters: {'constant_value': 0.9557246448065971, 'length_scale': 0.16512727144017517, 'alpha': 0.00010184223775412272, 'constant_bound_min': 2.017143049378723e-05, 'constant_bound_max': 2605.772856389236, 'len_bound_min': 1.4055413567751939e-05, 'len_bound_max': 86065.84004213828, 'n_restarts': 6}. Best is trial 41 with value: 4.390048527811793.\n",
      "[I 2025-05-03 12:24:27,534] Trial 94 finished with value: 4.390033062719786 and parameters: {'constant_value': 0.9581790360612081, 'length_scale': 0.156802600198971, 'alpha': 0.00010323493569889644, 'constant_bound_min': 1.2036239471658982e-05, 'constant_bound_max': 2774.319212662227, 'len_bound_min': 1.0217352329359807e-05, 'len_bound_max': 84756.61491213234, 'n_restarts': 6}. Best is trial 94 with value: 4.390033062719786.\n",
      "[I 2025-05-03 12:24:27,692] Trial 95 finished with value: 4.390039321202319 and parameters: {'constant_value': 0.6315580254598776, 'length_scale': 0.15486307387432188, 'alpha': 0.0001047781827138272, 'constant_bound_min': 1.4176637009576555e-05, 'constant_bound_max': 4303.643806066162, 'len_bound_min': 1.2007945522597247e-05, 'len_bound_max': 82720.91536531878, 'n_restarts': 7}. Best is trial 94 with value: 4.390033062719786.\n",
      "[I 2025-05-03 12:24:27,903] Trial 96 finished with value: 4.390070740178267 and parameters: {'constant_value': 0.7330628780804382, 'length_scale': 0.11006273216619719, 'alpha': 0.00010040877064250767, 'constant_bound_min': 1.3542173046519487e-05, 'constant_bound_max': 7884.172471561752, 'len_bound_min': 1.0062699423287356e-05, 'len_bound_max': 85686.50263975613, 'n_restarts': 10}. Best is trial 94 with value: 4.390033062719786.\n",
      "[I 2025-05-03 12:24:28,226] Trial 97 finished with value: 4.3900887583300925 and parameters: {'constant_value': 0.475982352609042, 'length_scale': 0.10643019729531202, 'alpha': 0.00015046407044133864, 'constant_bound_min': 1.3104489514532293e-05, 'constant_bound_max': 5322.437978304131, 'len_bound_min': 1.0187163081508114e-05, 'len_bound_max': 99662.49430811509, 'n_restarts': 17}. Best is trial 94 with value: 4.390033062719786.\n",
      "[I 2025-05-03 12:24:28,614] Trial 98 finished with value: 4.390054885601008 and parameters: {'constant_value': 0.7693727226418091, 'length_scale': 0.12034571819647626, 'alpha': 0.00012585881050370887, 'constant_bound_min': 1.3203322589716516e-05, 'constant_bound_max': 7916.849928225328, 'len_bound_min': 1.2405474254674403e-05, 'len_bound_max': 84969.44535317941, 'n_restarts': 13}. Best is trial 94 with value: 4.390033062719786.\n",
      "[I 2025-05-03 12:24:28,850] Trial 99 finished with value: 4.390077489571559 and parameters: {'constant_value': 0.7763727029357615, 'length_scale': 0.12329213024438324, 'alpha': 0.0001255564481103452, 'constant_bound_min': 1.8365854044092806e-05, 'constant_bound_max': 7424.720714651149, 'len_bound_min': 1.2243837693389483e-05, 'len_bound_max': 83983.70881082877, 'n_restarts': 12}. Best is trial 94 with value: 4.390033062719786.\n",
      "[I 2025-05-03 12:24:29,078] Trial 100 finished with value: 4.390095282090015 and parameters: {'constant_value': 0.6309080659995612, 'length_scale': 0.11568308005601347, 'alpha': 0.00016473272915032045, 'constant_bound_min': 1.1595641857371457e-05, 'constant_bound_max': 16604.406832132703, 'len_bound_min': 1.4413265310089145e-05, 'len_bound_max': 76388.33793292523, 'n_restarts': 12}. Best is trial 94 with value: 4.390033062719786.\n",
      "[I 2025-05-03 12:24:29,399] Trial 101 finished with value: 4.390066069260354 and parameters: {'constant_value': 0.7684028435900014, 'length_scale': 0.13326791426847548, 'alpha': 0.00010818675718566871, 'constant_bound_min': 1.312238178544206e-05, 'constant_bound_max': 13877.154691275484, 'len_bound_min': 1.2133290406596473e-05, 'len_bound_max': 68712.54413879856, 'n_restarts': 20}. Best is trial 94 with value: 4.390033062719786.\n",
      "[I 2025-05-03 12:24:29,683] Trial 102 finished with value: 4.390072842643928 and parameters: {'constant_value': 0.9230983386256184, 'length_scale': 0.13450457395380122, 'alpha': 0.00010995927272308597, 'constant_bound_min': 1.526576589211122e-05, 'constant_bound_max': 7878.233533343647, 'len_bound_min': 1.2901634782925951e-05, 'len_bound_max': 67692.03083879259, 'n_restarts': 17}. Best is trial 94 with value: 4.390033062719786.\n",
      "[I 2025-05-03 12:24:30,005] Trial 103 finished with value: 4.3900815280658305 and parameters: {'constant_value': 0.7183217858025795, 'length_scale': 0.1068714895672229, 'alpha': 0.00013559142564572346, 'constant_bound_min': 1.0066450208514176e-05, 'constant_bound_max': 14935.95024798894, 'len_bound_min': 1.6322561607848565e-05, 'len_bound_max': 84967.56088266427, 'n_restarts': 18}. Best is trial 94 with value: 4.390033062719786.\n",
      "[I 2025-05-03 12:24:30,321] Trial 104 finished with value: 4.3900738270362 and parameters: {'constant_value': 0.7542519357141191, 'length_scale': 0.1219855287069183, 'alpha': 0.00010947799109343164, 'constant_bound_min': 1.9590934843313397e-05, 'constant_bound_max': 11976.176430572898, 'len_bound_min': 1.8089643628087654e-05, 'len_bound_max': 67755.39851052508, 'n_restarts': 20}. Best is trial 94 with value: 4.390033062719786.\n",
      "[I 2025-05-03 12:24:30,578] Trial 105 finished with value: 4.390074334739803 and parameters: {'constant_value': 0.6573608098226715, 'length_scale': 0.10095526754422697, 'alpha': 0.00012217807923727583, 'constant_bound_min': 1.2553435939833528e-05, 'constant_bound_max': 30957.318304320423, 'len_bound_min': 1.2366551152853345e-05, 'len_bound_max': 92863.72147736108, 'n_restarts': 14}. Best is trial 94 with value: 4.390033062719786.\n",
      "[I 2025-05-03 12:24:30,761] Trial 106 finished with value: 4.393447354243839 and parameters: {'constant_value': 1.0891670796569186, 'length_scale': 0.12845217135506878, 'alpha': 0.009958958451128461, 'constant_bound_min': 1.537212616496651e-05, 'constant_bound_max': 4151.557118869921, 'len_bound_min': 2.3947264629346837e-05, 'len_bound_max': 41482.78642321558, 'n_restarts': 10}. Best is trial 94 with value: 4.390033062719786.\n",
      "[I 2025-05-03 12:24:30,994] Trial 107 finished with value: 4.390084207576505 and parameters: {'constant_value': 0.5698032000191436, 'length_scale': 0.11230067246901272, 'alpha': 0.00014490977902854654, 'constant_bound_min': 2.494320773913659e-05, 'constant_bound_max': 11188.23317636104, 'len_bound_min': 1.4683242345611784e-05, 'len_bound_max': 69392.0531256107, 'n_restarts': 13}. Best is trial 94 with value: 4.390033062719786.\n",
      "[I 2025-05-03 12:24:31,267] Trial 108 finished with value: 4.39007353355998 and parameters: {'constant_value': 0.9740946338192659, 'length_scale': 0.8832749737599187, 'alpha': 0.00010874434696801849, 'constant_bound_min': 2.0529154930414397e-05, 'constant_bound_max': 6390.182172796489, 'len_bound_min': 2.008725256925334e-05, 'len_bound_max': 36867.20485926213, 'n_restarts': 15}. Best is trial 94 with value: 4.390033062719786.\n",
      "[I 2025-05-03 12:24:31,575] Trial 109 finished with value: 4.390080875629551 and parameters: {'constant_value': 0.5165873564735044, 'length_scale': 0.16281725057826282, 'alpha': 0.00013045219340447698, 'constant_bound_min': 1.1728369724145854e-05, 'constant_bound_max': 2933.672126582857, 'len_bound_min': 1.1256017255308748e-05, 'len_bound_max': 99765.07693316466, 'n_restarts': 19}. Best is trial 94 with value: 4.390033062719786.\n",
      "[I 2025-05-03 12:24:31,791] Trial 110 finished with value: 4.390188939084197 and parameters: {'constant_value': 0.6806471205756525, 'length_scale': 0.13786857573335645, 'alpha': 0.00044698495334156193, 'constant_bound_min': 1.4218715344458771e-05, 'constant_bound_max': 3848.208574706717, 'len_bound_min': 1.3043903796145555e-05, 'len_bound_max': 82663.73585649728, 'n_restarts': 11}. Best is trial 94 with value: 4.390033062719786.\n",
      "[I 2025-05-03 12:24:31,997] Trial 111 finished with value: 4.390054527124346 and parameters: {'constant_value': 0.8592221650402915, 'length_scale': 0.1569768346262687, 'alpha': 0.00010023211934925942, 'constant_bound_min': 1.3373226711197845e-05, 'constant_bound_max': 5401.756468750025, 'len_bound_min': 1.0049339010005279e-05, 'len_bound_max': 76585.38970729936, 'n_restarts': 10}. Best is trial 94 with value: 4.390033062719786.\n",
      "[I 2025-05-03 12:24:32,223] Trial 112 finished with value: 4.39006908048929 and parameters: {'constant_value': 1.2094418397940343, 'length_scale': 0.1629475362490115, 'alpha': 0.00010737841049718864, 'constant_bound_min': 1.682360865543468e-05, 'constant_bound_max': 8901.34436799583, 'len_bound_min': 1.0024333815213018e-05, 'len_bound_max': 73381.5960779342, 'n_restarts': 13}. Best is trial 94 with value: 4.390033062719786.\n",
      "[I 2025-05-03 12:24:32,470] Trial 113 finished with value: 4.390065030272426 and parameters: {'constant_value': 1.1845140168345603, 'length_scale': 0.19829196318157052, 'alpha': 0.00012041627189494381, 'constant_bound_min': 1.6430723949212366e-05, 'constant_bound_max': 5356.742636134595, 'len_bound_min': 1.5140793436848997e-05, 'len_bound_max': 65880.81265963725, 'n_restarts': 14}. Best is trial 94 with value: 4.390033062719786.\n",
      "[I 2025-05-03 12:24:32,988] Trial 114 finished with value: 4.390087317965496 and parameters: {'constant_value': 1.3799675808621756, 'length_scale': 0.19498159682073904, 'alpha': 0.00014836126628594732, 'constant_bound_min': 1.6575921519297508e-05, 'constant_bound_max': 5415.664090220482, 'len_bound_min': 2.1777754106797415e-05, 'len_bound_max': 44238.61010271319, 'n_restarts': 13}. Best is trial 94 with value: 4.390033062719786.\n",
      "[I 2025-05-03 12:24:33,263] Trial 115 finished with value: 4.390072885970677 and parameters: {'constant_value': 1.2124481024490534, 'length_scale': 0.1730065846620855, 'alpha': 0.00012106229176521281, 'constant_bound_min': 1.0314351900891563e-05, 'constant_bound_max': 8710.024427524295, 'len_bound_min': 1.5719998723498264e-05, 'len_bound_max': 53829.01853056286, 'n_restarts': 15}. Best is trial 94 with value: 4.390033062719786.\n",
      "[I 2025-05-03 12:24:33,768] Trial 116 finished with value: 4.390078067679616 and parameters: {'constant_value': 1.0332243808292105, 'length_scale': 0.15109020280991275, 'alpha': 0.00012033367172042462, 'constant_bound_min': 2.714155612271492e-05, 'constant_bound_max': 7039.851663671917, 'len_bound_min': 2.6418725727167428e-05, 'len_bound_max': 65231.135685476554, 'n_restarts': 14}. Best is trial 94 with value: 4.390033062719786.\n",
      "[I 2025-05-03 12:24:34,047] Trial 117 finished with value: 4.390091841770337 and parameters: {'constant_value': 1.1465689764977782, 'length_scale': 0.20220018391944672, 'alpha': 0.000161701969010477, 'constant_bound_min': 1.777167918022413e-05, 'constant_bound_max': 15336.682314666808, 'len_bound_min': 1.8323967576638695e-05, 'len_bound_max': 29311.35479963168, 'n_restarts': 16}. Best is trial 94 with value: 4.390033062719786.\n",
      "c:\\Users\\imed\\Desktop\\SID\\ML\\.venv\\Lib\\site-packages\\sklearn\\gaussian_process\\kernels.py:442: ConvergenceWarning: The optimal value found for dimension 0 of parameter k2__length_scale is close to the specified lower bound 1.1905761783353983e-05. Decreasing the bound and calling fit again may find a better value.\n",
      "  warnings.warn(\n",
      "[I 2025-05-03 12:24:34,232] Trial 118 finished with value: 5.002494330000157 and parameters: {'constant_value': 1.6296818566248759, 'length_scale': 0.14010746071620206, 'alpha': 0.00018813888244929419, 'constant_bound_min': 2.300327214300562e-05, 'constant_bound_max': 12155.656814882033, 'len_bound_min': 1.1905761783353983e-05, 'len_bound_max': 102.34015734873716, 'n_restarts': 11}. Best is trial 94 with value: 4.390033062719786.\n",
      "[I 2025-05-03 12:24:34,484] Trial 119 finished with value: 4.390084466875887 and parameters: {'constant_value': 1.7686014430834651, 'length_scale': 0.1625788749783404, 'alpha': 0.00013715399173808607, 'constant_bound_min': 1.209791045739951e-05, 'constant_bound_max': 4379.331602524753, 'len_bound_min': 1.016786028143937e-05, 'len_bound_max': 13088.956899191824, 'n_restarts': 15}. Best is trial 94 with value: 4.390033062719786.\n",
      "[I 2025-05-03 12:24:34,781] Trial 120 finished with value: 4.390072567235957 and parameters: {'constant_value': 1.2947612072071828, 'length_scale': 0.13048913664952894, 'alpha': 0.00010774675970019202, 'constant_bound_min': 1.557720928051408e-05, 'constant_bound_max': 4732.268327507397, 'len_bound_min': 1.3649696621755173e-05, 'len_bound_max': 22430.0895259703, 'n_restarts': 13}. Best is trial 94 with value: 4.390033062719786.\n",
      "[I 2025-05-03 12:24:35,061] Trial 121 finished with value: 4.3900620360325995 and parameters: {'constant_value': 0.974917881801398, 'length_scale': 0.16665770437033198, 'alpha': 0.00011012309248926096, 'constant_bound_min': 1.901586065056093e-05, 'constant_bound_max': 3458.6486777216187, 'len_bound_min': 1.4589187325550087e-05, 'len_bound_max': 73728.51620205281, 'n_restarts': 17}. Best is trial 94 with value: 4.390033062719786.\n",
      "[I 2025-05-03 12:24:35,273] Trial 122 finished with value: 4.3900806813473645 and parameters: {'constant_value': 0.8853816487049755, 'length_scale': 0.1774368576102126, 'alpha': 0.0001283463422989833, 'constant_bound_min': 1.8442629380782528e-05, 'constant_bound_max': 3322.240647645935, 'len_bound_min': 1.6099938274481076e-05, 'len_bound_max': 73631.10177816806, 'n_restarts': 12}. Best is trial 94 with value: 4.390033062719786.\n",
      "[I 2025-05-03 12:24:35,558] Trial 123 finished with value: 4.390075557576261 and parameters: {'constant_value': 0.8202944679604233, 'length_scale': 0.15566972501665471, 'alpha': 0.00011189317538252938, 'constant_bound_min': 1.4639048683179788e-05, 'constant_bound_max': 5296.189007579673, 'len_bound_min': 1.1854017818657989e-05, 'len_bound_max': 54137.17496085544, 'n_restarts': 17}. Best is trial 94 with value: 4.390033062719786.\n",
      "[I 2025-05-03 12:24:35,865] Trial 124 finished with value: 4.390078699544782 and parameters: {'constant_value': 1.201280903593531, 'length_scale': 0.186534355431601, 'alpha': 0.00012125163548033423, 'constant_bound_min': 1.076546453788205e-05, 'constant_bound_max': 5947.248263766916, 'len_bound_min': 2.0622813555924214e-05, 'len_bound_max': 65013.51901648396, 'n_restarts': 18}. Best is trial 94 with value: 4.390033062719786.\n",
      "[I 2025-05-03 12:24:36,197] Trial 125 finished with value: 4.390088574090263 and parameters: {'constant_value': 1.5036423327977297, 'length_scale': 0.16677164787904977, 'alpha': 0.00015026059123155188, 'constant_bound_min': 1.2496428454835291e-05, 'constant_bound_max': 9511.93056178209, 'len_bound_min': 1.4108485236539498e-05, 'len_bound_max': 74734.11006164533, 'n_restarts': 19}. Best is trial 94 with value: 4.390033062719786.\n",
      "[I 2025-05-03 12:24:36,472] Trial 126 finished with value: 4.390065925780921 and parameters: {'constant_value': 1.0808187867068142, 'length_scale': 0.21032909644369363, 'alpha': 0.00010937509011151641, 'constant_bound_min': 2.1450213106355553e-05, 'constant_bound_max': 3758.141042766912, 'len_bound_min': 1.7975990831339366e-05, 'len_bound_max': 36264.475861737665, 'n_restarts': 16}. Best is trial 94 with value: 4.390033062719786.\n",
      "[I 2025-05-03 12:24:36,825] Trial 127 finished with value: 4.390083617423621 and parameters: {'constant_value': 1.0722013447622298, 'length_scale': 0.2136152156346017, 'alpha': 0.00013477224517813917, 'constant_bound_min': 2.1112573065394384e-05, 'constant_bound_max': 3620.6050183329503, 'len_bound_min': 1.827495976414217e-05, 'len_bound_max': 35178.260548307306, 'n_restarts': 20}. Best is trial 94 with value: 4.390033062719786.\n",
      "[I 2025-05-03 12:24:37,093] Trial 128 finished with value: 4.390131022119006 and parameters: {'constant_value': 0.8471551698088461, 'length_scale': 0.20064981036825794, 'alpha': 0.00017114088245489203, 'constant_bound_min': 2.967480207646204e-05, 'constant_bound_max': 3075.7921633908063, 'len_bound_min': 4.6742704128092896e-05, 'len_bound_max': 16837.701538130874, 'n_restarts': 16}. Best is trial 94 with value: 4.390033062719786.\n",
      "[I 2025-05-03 12:24:37,404] Trial 129 finished with value: 4.390077221113279 and parameters: {'constant_value': 0.998007487919519, 'length_scale': 0.14239016993730644, 'alpha': 0.00011733683190753128, 'constant_bound_min': 2.5398637349693702e-05, 'constant_bound_max': 2411.145936779796, 'len_bound_min': 2.5439642275517935e-05, 'len_bound_max': 26688.22875786076, 'n_restarts': 19}. Best is trial 94 with value: 4.390033062719786.\n",
      "[I 2025-05-03 12:24:37,680] Trial 130 finished with value: 4.390452545645149 and parameters: {'constant_value': 0.7664147652310325, 'length_scale': 0.1907330661684202, 'alpha': 0.0012202843201322747, 'constant_bound_min': 1.3472075433036852e-05, 'constant_bound_max': 4502.192845757102, 'len_bound_min': 3.0724696209182664e-05, 'len_bound_max': 45567.47329157038, 'n_restarts': 16}. Best is trial 94 with value: 4.390033062719786.\n",
      "[I 2025-05-03 12:24:37,931] Trial 131 finished with value: 4.390076204804601 and parameters: {'constant_value': 1.352600595324108, 'length_scale': 0.5136357236310327, 'alpha': 0.00010942903812768153, 'constant_bound_min': 1.6647919689139537e-05, 'constant_bound_max': 3831.559172079772, 'len_bound_min': 1.1816250601864955e-05, 'len_bound_max': 59264.22397541053, 'n_restarts': 14}. Best is trial 94 with value: 4.390033062719786.\n",
      "[I 2025-05-03 12:24:38,182] Trial 132 finished with value: 4.3900631005834345 and parameters: {'constant_value': 1.0023585392628669, 'length_scale': 0.15055465146303618, 'alpha': 0.00010919690501197978, 'constant_bound_min': 1.852353260855917e-05, 'constant_bound_max': 6375.599704821447, 'len_bound_min': 1.6236770151141613e-05, 'len_bound_max': 50973.72358417554, 'n_restarts': 15}. Best is trial 94 with value: 4.390033062719786.\n",
      "[I 2025-05-03 12:24:38,441] Trial 133 finished with value: 4.390245243235389 and parameters: {'constant_value': 0.8960793793842995, 'length_scale': 0.15085753397524757, 'alpha': 0.0006119918584840966, 'constant_bound_min': 2.303064380656612e-05, 'constant_bound_max': 5900.177468303103, 'len_bound_min': 1.5712299348388198e-05, 'len_bound_max': 38169.10998011427, 'n_restarts': 15}. Best is trial 94 with value: 4.390033062719786.\n",
      "[I 2025-05-03 12:24:38,739] Trial 134 finished with value: 4.390064519623588 and parameters: {'constant_value': 1.14011459564086, 'length_scale': 0.13401984039773274, 'alpha': 0.00012794324318985017, 'constant_bound_min': 1.142627211365096e-05, 'constant_bound_max': 4886.73021286255, 'len_bound_min': 1.9351360461326784e-05, 'len_bound_max': 47185.285285779966, 'n_restarts': 18}. Best is trial 94 with value: 4.390033062719786.\n",
      "[I 2025-05-03 12:24:39,080] Trial 135 finished with value: 4.390083023223952 and parameters: {'constant_value': 1.0129482108983954, 'length_scale': 0.12598206005932425, 'alpha': 0.000141526769445575, 'constant_bound_min': 1.1313231143597962e-05, 'constant_bound_max': 4994.82507700721, 'len_bound_min': 2.1071810256650107e-05, 'len_bound_max': 49108.262003499265, 'n_restarts': 18}. Best is trial 94 with value: 4.390033062719786.\n",
      "[I 2025-05-03 12:24:39,379] Trial 136 finished with value: 4.390091479353805 and parameters: {'constant_value': 0.8182810135299378, 'length_scale': 0.1742133310469215, 'alpha': 0.0001279817847526854, 'constant_bound_min': 1.9616122577628017e-05, 'constant_bound_max': 6754.816575961758, 'len_bound_min': 1.754906216562372e-05, 'len_bound_max': 32806.53264412682, 'n_restarts': 17}. Best is trial 94 with value: 4.390033062719786.\n",
      "[I 2025-05-03 12:24:39,685] Trial 137 finished with value: 4.3900736469243276 and parameters: {'constant_value': 1.1226757216580732, 'length_scale': 0.11877788998538312, 'alpha': 0.00011855672507907418, 'constant_bound_min': 1.5107592909951326e-05, 'constant_bound_max': 3417.229396025348, 'len_bound_min': 1.4414028875760057e-05, 'len_bound_max': 53901.16766513186, 'n_restarts': 18}. Best is trial 94 with value: 4.390033062719786.\n",
      "[I 2025-05-03 12:24:39,970] Trial 138 finished with value: 4.390091063678924 and parameters: {'constant_value': 0.934947729378568, 'length_scale': 0.13460988582142294, 'alpha': 0.00015874679035828866, 'constant_bound_min': 3.389334717749359e-05, 'constant_bound_max': 27152.2617975652, 'len_bound_min': 2.2322117270504218e-05, 'len_bound_max': 42336.3196720243, 'n_restarts': 16}. Best is trial 94 with value: 4.390033062719786.\n",
      "[I 2025-05-03 12:24:40,190] Trial 139 finished with value: 4.390082787464439 and parameters: {'constant_value': 1.1323371922781755, 'length_scale': 0.15694800499711392, 'alpha': 0.0001330075164700168, 'constant_bound_min': 1.811318748163592e-05, 'constant_bound_max': 2766.020643674868, 'len_bound_min': 6.040068409892086e-05, 'len_bound_max': 24784.808832159928, 'n_restarts': 12}. Best is trial 94 with value: 4.390033062719786.\n",
      "[I 2025-05-03 12:24:40,513] Trial 140 finished with value: 4.390077888409393 and parameters: {'constant_value': 0.9509503128075163, 'length_scale': 0.2232480370271048, 'alpha': 0.00011170536718910314, 'constant_bound_min': 2.6694907082949588e-05, 'constant_bound_max': 3863.798364080029, 'len_bound_min': 1.6796341242065034e-05, 'len_bound_max': 62947.76591180137, 'n_restarts': 20}. Best is trial 94 with value: 4.390033062719786.\n",
      "[I 2025-05-03 12:24:40,772] Trial 141 finished with value: 4.390067816456025 and parameters: {'constant_value': 1.0088391455564032, 'length_scale': 0.1390455956486545, 'alpha': 0.00010167041799163392, 'constant_bound_min': 1.301057951954467e-05, 'constant_bound_max': 45373.76799565928, 'len_bound_min': 1.2974019048039733e-05, 'len_bound_max': 99347.34032116212, 'n_restarts': 14}. Best is trial 94 with value: 4.390033062719786.\n",
      "[I 2025-05-03 12:24:41,037] Trial 142 finished with value: 4.3900741784246495 and parameters: {'constant_value': 1.0683271241589387, 'length_scale': 0.1501763136222959, 'alpha': 0.00010002877714029477, 'constant_bound_min': 1.0222776182099138e-05, 'constant_bound_max': 74016.49294087448, 'len_bound_min': 1.2884317993070294e-05, 'len_bound_max': 99287.14454084523, 'n_restarts': 15}. Best is trial 94 with value: 4.390033062719786.\n",
      "[I 2025-05-03 12:24:41,309] Trial 143 finished with value: 4.390077734475129 and parameters: {'constant_value': 0.9975933902240839, 'length_scale': 0.17231591782969843, 'alpha': 0.00012166613063045045, 'constant_bound_min': 1.2427985440974366e-05, 'constant_bound_max': 49141.18417316179, 'len_bound_min': 1.1447016856313582e-05, 'len_bound_max': 77622.9339759771, 'n_restarts': 14}. Best is trial 94 with value: 4.390033062719786.\n",
      "[I 2025-05-03 12:24:41,623] Trial 144 finished with value: 4.3900749863537385 and parameters: {'constant_value': 0.43831341169835736, 'length_scale': 0.1328325069738497, 'alpha': 0.00010894878293651178, 'constant_bound_min': 1.5106897660874654e-05, 'constant_bound_max': 49261.445160724565, 'len_bound_min': 1.936193785138723e-05, 'len_bound_max': 49908.18343396723, 'n_restarts': 17}. Best is trial 94 with value: 4.390033062719786.\n",
      "[I 2025-05-03 12:24:41,893] Trial 145 finished with value: 4.390087345405034 and parameters: {'constant_value': 1.048750446074489, 'length_scale': 0.1869708320024884, 'alpha': 0.00014671196757933585, 'constant_bound_min': 1.8658715622307462e-05, 'constant_bound_max': 47259.93571834405, 'len_bound_min': 1.4911155682824295e-05, 'len_bound_max': 19141.173397902, 'n_restarts': 16}. Best is trial 94 with value: 4.390033062719786.\n",
      "[I 2025-05-03 12:24:42,126] Trial 146 finished with value: 4.390080532690955 and parameters: {'constant_value': 1.277248593325463, 'length_scale': 0.14598950416224574, 'alpha': 0.00012465632526445343, 'constant_bound_min': 2.091722245490848e-05, 'constant_bound_max': 4394.4181838290315, 'len_bound_min': 4.205413687099963e-05, 'len_bound_max': 61620.16602173537, 'n_restarts': 12}. Best is trial 94 with value: 4.390033062719786.\n",
      "[I 2025-05-03 12:24:42,404] Trial 147 finished with value: 4.390062669335187 and parameters: {'constant_value': 0.3653574894230669, 'length_scale': 0.12176782918642774, 'alpha': 0.00011027522982295106, 'constant_bound_min': 1.1840076100976959e-05, 'constant_bound_max': 5735.990124825493, 'len_bound_min': 2.7143294337792682e-05, 'len_bound_max': 29434.839398885084, 'n_restarts': 14}. Best is trial 94 with value: 4.390033062719786.\n",
      "[I 2025-05-03 12:24:42,622] Trial 148 finished with value: 4.390085305642022 and parameters: {'constant_value': 0.38520247938904745, 'length_scale': 0.12411658192824697, 'alpha': 0.00014044583483772413, 'constant_bound_min': 1.1640164743578682e-05, 'constant_bound_max': 5737.7326900489725, 'len_bound_min': 2.8752414391646996e-05, 'len_bound_max': 30025.57715457066, 'n_restarts': 11}. Best is trial 94 with value: 4.390033062719786.\n",
      "[I 2025-05-03 12:24:42,861] Trial 149 finished with value: 4.3901719012795395 and parameters: {'constant_value': 0.11176716830736667, 'length_scale': 0.11797538384620536, 'alpha': 0.00039417538553102266, 'constant_bound_min': 1.6321359672627265e-05, 'constant_bound_max': 7027.810458119594, 'len_bound_min': 2.5058127301431704e-05, 'len_bound_max': 43382.33430983576, 'n_restarts': 13}. Best is trial 94 with value: 4.390033062719786.\n",
      "[I 2025-05-03 12:24:43,192] Trial 150 finished with value: 4.390075173008548 and parameters: {'constant_value': 0.649715858625735, 'length_scale': 0.16479582430789602, 'alpha': 0.00011512391952792105, 'constant_bound_min': 2.334220406064318e-05, 'constant_bound_max': 4863.289467275782, 'len_bound_min': 7.559855255171017e-05, 'len_bound_max': 33999.51315367658, 'n_restarts': 18}. Best is trial 94 with value: 4.390033062719786.\n",
      "[I 2025-05-03 12:24:43,455] Trial 151 finished with value: 4.39008157607919 and parameters: {'constant_value': 0.8431744462202233, 'length_scale': 0.13521812843691425, 'alpha': 0.0001001189956092187, 'constant_bound_min': 1.3525676364583444e-05, 'constant_bound_max': 7931.707631606286, 'len_bound_min': 1.1553052286756177e-05, 'len_bound_max': 81333.72348329436, 'n_restarts': 14}. Best is trial 94 with value: 4.390033062719786.\n",
      "[I 2025-05-03 12:24:43,716] Trial 152 finished with value: 4.390074962397652 and parameters: {'constant_value': 1.1342024063270206, 'length_scale': 0.15593867503864667, 'alpha': 0.00011045665497252682, 'constant_bound_min': 1.1668429900257315e-05, 'constant_bound_max': 3072.2631198360605, 'len_bound_min': 1.6160040577221922e-05, 'len_bound_max': 38402.39058232038, 'n_restarts': 15}. Best is trial 94 with value: 4.390033062719786.\n",
      "[I 2025-05-03 12:24:43,945] Trial 153 finished with value: 4.390064683973721 and parameters: {'constant_value': 0.7807730713241204, 'length_scale': 0.1775499648159923, 'alpha': 0.00012897760735934693, 'constant_bound_min': 1.019385297667359e-05, 'constant_bound_max': 22536.913056198482, 'len_bound_min': 1.3558504073228118e-05, 'len_bound_max': 55881.107026990096, 'n_restarts': 13}. Best is trial 94 with value: 4.390033062719786.\n",
      "[I 2025-05-03 12:24:44,194] Trial 154 finished with value: 4.390082325918499 and parameters: {'constant_value': 0.6992145522888494, 'length_scale': 0.18096808930022468, 'alpha': 0.00013074013939950058, 'constant_bound_min': 1.0241937941541864e-05, 'constant_bound_max': 6454.373326083978, 'len_bound_min': 1.8170285369886545e-05, 'len_bound_max': 58888.09414522905, 'n_restarts': 13}. Best is trial 94 with value: 4.390033062719786.\n",
      "[I 2025-05-03 12:24:44,426] Trial 155 finished with value: 4.390079017099729 and parameters: {'constant_value': 0.32656868169477304, 'length_scale': 0.20694823421593084, 'alpha': 0.00011974102601325587, 'constant_bound_min': 1.5008497326431704e-05, 'constant_bound_max': 20490.395281572866, 'len_bound_min': 1.0198077962898544e-05, 'len_bound_max': 46445.66440278799, 'n_restarts': 12}. Best is trial 94 with value: 4.390033062719786.\n",
      "[I 2025-05-03 12:24:44,727] Trial 156 finished with value: 4.390122995504825 and parameters: {'constant_value': 0.7411885294910877, 'length_scale': 0.19428612939746656, 'alpha': 0.0001552722571530102, 'constant_bound_min': 1.7929474765269095e-05, 'constant_bound_max': 2562.367811402781, 'len_bound_min': 2.3039673487189938e-05, 'len_bound_max': 69703.48872615126, 'n_restarts': 17}. Best is trial 94 with value: 4.390033062719786.\n",
      "[I 2025-05-03 12:24:45,033] Trial 157 finished with value: 4.390083256250681 and parameters: {'constant_value': 0.7816226436295879, 'length_scale': 0.1720342297975507, 'alpha': 0.00013170827616539323, 'constant_bound_min': 1.2037620364657594e-05, 'constant_bound_max': 20440.466359583832, 'len_bound_min': 1.439722052979122e-05, 'len_bound_max': 14591.04157663081, 'n_restarts': 19}. Best is trial 94 with value: 4.390033062719786.\n",
      "[I 2025-05-03 12:24:45,222] Trial 158 finished with value: 4.390095922721637 and parameters: {'constant_value': 0.10068076930311566, 'length_scale': 0.14739764550218995, 'alpha': 0.00017409979951670004, 'constant_bound_min': 1.0076114926124303e-05, 'constant_bound_max': 4058.094986778098, 'len_bound_min': 5.394496272148639e-05, 'len_bound_max': 21522.08587451514, 'n_restarts': 9}. Best is trial 94 with value: 4.390033062719786.\n",
      "[I 2025-05-03 12:24:45,500] Trial 159 finished with value: 4.390074716688768 and parameters: {'constant_value': 0.8681042290595367, 'length_scale': 0.1621898890997413, 'alpha': 0.00011061400690819259, 'constant_bound_min': 1.4015869415070933e-05, 'constant_bound_max': 23916.278144332282, 'len_bound_min': 3.018474774358681e-05, 'len_bound_max': 28386.119222211168, 'n_restarts': 16}. Best is trial 94 with value: 4.390033062719786.\n",
      "[I 2025-05-03 12:24:45,712] Trial 160 finished with value: 5.002494330000157 and parameters: {'constant_value': 0.5712481617296116, 'length_scale': 0.18252513572877727, 'alpha': 0.00014596810634170127, 'constant_bound_min': 1.6235819617628395e-05, 'constant_bound_max': 10345.591579573938, 'len_bound_min': 1.9262040609049065e-05, 'len_bound_max': 7103.126779554305, 'n_restarts': 13}. Best is trial 94 with value: 4.390033062719786.\n",
      "[I 2025-05-03 12:24:45,980] Trial 161 finished with value: 4.390072135628246 and parameters: {'constant_value': 0.9785069041746042, 'length_scale': 0.1368017286713925, 'alpha': 0.00010840227702485984, 'constant_bound_min': 1.3320287673771383e-05, 'constant_bound_max': 39038.92560964742, 'len_bound_min': 1.3136865008309004e-05, 'len_bound_max': 90017.10179153402, 'n_restarts': 14}. Best is trial 94 with value: 4.390033062719786.\n",
      "[I 2025-05-03 12:24:46,239] Trial 162 finished with value: 4.3900783785750095 and parameters: {'constant_value': 0.9298330641105845, 'length_scale': 1.3710137932032322, 'alpha': 0.00012014980931314211, 'constant_bound_min': 1.252201693031428e-05, 'constant_bound_max': 13156.96046100295, 'len_bound_min': 1.1447621215597833e-05, 'len_bound_max': 52527.49682731504, 'n_restarts': 15}. Best is trial 94 with value: 4.390033062719786.\n",
      "[I 2025-05-03 12:24:46,466] Trial 163 finished with value: 4.390071520148189 and parameters: {'constant_value': 1.8532445064474794, 'length_scale': 0.1244964049596568, 'alpha': 0.00010008987717477201, 'constant_bound_min': 2.136959061064188e-05, 'constant_bound_max': 17154.633090588788, 'len_bound_min': 1.3300686910877201e-05, 'len_bound_max': 70146.91131321271, 'n_restarts': 11}. Best is trial 94 with value: 4.390033062719786.\n",
      "[I 2025-05-03 12:24:46,680] Trial 164 finished with value: 4.390836624083662 and parameters: {'constant_value': 1.04065007259738, 'length_scale': 0.14455584383346542, 'alpha': 0.00234913178327113, 'constant_bound_min': 0.009542677710818936, 'constant_bound_max': 5385.528951340095, 'len_bound_min': 1.6982706235062382e-05, 'len_bound_max': 99631.03758115962, 'n_restarts': 14}. Best is trial 94 with value: 4.390033062719786.\n",
      "[I 2025-05-03 12:24:46,960] Trial 165 finished with value: 4.390080522435854 and parameters: {'constant_value': 0.7929495969625394, 'length_scale': 0.15661815443039648, 'alpha': 0.00012755097390465347, 'constant_bound_min': 0.00021544286856837368, 'constant_bound_max': 3240.643643681413, 'len_bound_min': 8.69001470552792e-05, 'len_bound_max': 10096.437285788406, 'n_restarts': 20}. Best is trial 94 with value: 4.390033062719786.\n",
      "[I 2025-05-03 12:24:47,197] Trial 166 finished with value: 4.390069215189532 and parameters: {'constant_value': 1.2513607335426375, 'length_scale': 0.16991354383618437, 'alpha': 0.0001164771049157117, 'constant_bound_min': 1.6905322736752516e-05, 'constant_bound_max': 1921.9744463318461, 'len_bound_min': 1.5420261123810798e-05, 'len_bound_max': 80661.66135281081, 'n_restarts': 15}. Best is trial 94 with value: 4.390033062719786.\n",
      "[I 2025-05-03 12:24:47,426] Trial 167 finished with value: 4.39007200700047 and parameters: {'constant_value': 0.9332489096614183, 'length_scale': 0.13080762719454025, 'alpha': 0.00010811351673571086, 'constant_bound_min': 1.1340775110286827e-05, 'constant_bound_max': 4842.356106786898, 'len_bound_min': 1.1060366258754376e-05, 'len_bound_max': 57224.36192903434, 'n_restarts': 12}. Best is trial 94 with value: 4.390033062719786.\n",
      "[I 2025-05-03 12:24:47,735] Trial 168 finished with value: 4.390082331515165 and parameters: {'constant_value': 0.2918812655141991, 'length_scale': 0.14018641419172342, 'alpha': 0.0001317137163901849, 'constant_bound_min': 1.4709185983902466e-05, 'constant_bound_max': 36465.570610450304, 'len_bound_min': 1.2879165174028836e-05, 'len_bound_max': 67935.74404245737, 'n_restarts': 18}. Best is trial 94 with value: 4.390033062719786.\n",
      "[I 2025-05-03 12:24:48,008] Trial 169 finished with value: 4.391267187054167 and parameters: {'constant_value': 1.1776447280526394, 'length_scale': 0.1990112871272163, 'alpha': 0.0036062033403477514, 'constant_bound_min': 1.884663205702908e-05, 'constant_bound_max': 6078.945847075692, 'len_bound_min': 1.924063254725453e-05, 'len_bound_max': 41446.04700295679, 'n_restarts': 16}. Best is trial 94 with value: 4.390033062719786.\n",
      "[I 2025-05-03 12:24:48,225] Trial 170 finished with value: 4.39006990373235 and parameters: {'constant_value': 0.7057637461572274, 'length_scale': 0.11355080075382078, 'alpha': 0.00014052605462234306, 'constant_bound_min': 1.3231589780686786e-05, 'constant_bound_max': 94306.58921408199, 'len_bound_min': 3.910673706865858e-05, 'len_bound_max': 32426.30927751488, 'n_restarts': 10}. Best is trial 94 with value: 4.390033062719786.\n",
      "[I 2025-05-03 12:24:48,498] Trial 171 finished with value: 4.39006461541135 and parameters: {'constant_value': 0.8846490511274168, 'length_scale': 0.14381739869308663, 'alpha': 0.00010136062048407477, 'constant_bound_min': 1.3683883350793896e-05, 'constant_bound_max': 2134.797742039989, 'len_bound_min': 1.3708149793977454e-05, 'len_bound_max': 88589.42668571346, 'n_restarts': 17}. Best is trial 94 with value: 4.390033062719786.\n",
      "[I 2025-05-03 12:24:48,763] Trial 172 finished with value: 4.390062473735598 and parameters: {'constant_value': 0.8282566373940888, 'length_scale': 0.15125082144704363, 'alpha': 0.00010642642139794054, 'constant_bound_min': 1.0014381819270854e-05, 'constant_bound_max': 2167.6742439115123, 'len_bound_min': 1.4280742173255634e-05, 'len_bound_max': 86888.00822424836, 'n_restarts': 17}. Best is trial 94 with value: 4.390033062719786.\n",
      "[I 2025-05-03 12:24:49,038] Trial 173 finished with value: 4.390076901720876 and parameters: {'constant_value': 0.8612378608132031, 'length_scale': 0.15167112389056261, 'alpha': 0.00011634423032217539, 'constant_bound_min': 1.0104065035463463e-05, 'constant_bound_max': 2275.538629721519, 'len_bound_min': 1.5452559060868322e-05, 'len_bound_max': 76209.16397298482, 'n_restarts': 17}. Best is trial 94 with value: 4.390033062719786.\n",
      "[I 2025-05-03 12:24:49,349] Trial 174 finished with value: 4.390085076394535 and parameters: {'constant_value': 0.21914729687038317, 'length_scale': 0.16472242343081797, 'alpha': 0.00010880691068002365, 'constant_bound_min': 1.1657036054331977e-05, 'constant_bound_max': 3615.125901504362, 'len_bound_min': 1.0035027208486386e-05, 'len_bound_max': 65001.97339683112, 'n_restarts': 19}. Best is trial 94 with value: 4.390033062719786.\n",
      "[I 2025-05-03 12:24:49,625] Trial 175 finished with value: 4.390076942120745 and parameters: {'constant_value': 0.768101131561253, 'length_scale': 0.17239057015413692, 'alpha': 0.000122747176381548, 'constant_bound_min': 1.4827877221972295e-05, 'constant_bound_max': 1651.0878282938115, 'len_bound_min': 1.446507472728418e-05, 'len_bound_max': 81753.34545562096, 'n_restarts': 17}. Best is trial 94 with value: 4.390033062719786.\n",
      "[I 2025-05-03 12:24:49,919] Trial 176 finished with value: 4.39007183439648 and parameters: {'constant_value': 0.8186312076956379, 'length_scale': 0.18220144270221306, 'alpha': 0.00010883801344831727, 'constant_bound_min': 1.66813100668356e-05, 'constant_bound_max': 2634.9892585786256, 'len_bound_min': 2.306681206224763e-05, 'len_bound_max': 52741.03157034925, 'n_restarts': 18}. Best is trial 94 with value: 4.390033062719786.\n",
      "[I 2025-05-03 12:24:50,186] Trial 177 finished with value: 4.390066140736809 and parameters: {'constant_value': 0.12327947771681944, 'length_scale': 0.15595051680121305, 'alpha': 0.0001244798131260782, 'constant_bound_min': 1.1207578566886853e-05, 'constant_bound_max': 2016.649037837129, 'len_bound_min': 1.1829636905926214e-05, 'len_bound_max': 88011.96028044379, 'n_restarts': 16}. Best is trial 94 with value: 4.390033062719786.\n",
      "[I 2025-05-03 12:24:50,539] Trial 178 finished with value: 4.390310751016812 and parameters: {'constant_value': 0.8710005853718259, 'length_scale': 0.1271883448482693, 'alpha': 0.0008021376516367235, 'constant_bound_min': 2.0549506512421618e-05, 'constant_bound_max': 4333.647854208621, 'len_bound_min': 0.00032961821937748216, 'len_bound_max': 37236.33011274524, 'n_restarts': 20}. Best is trial 94 with value: 4.390033062719786.\n",
      "[I 2025-05-03 12:24:50,769] Trial 179 finished with value: 4.390062594586085 and parameters: {'constant_value': 0.638070004663934, 'length_scale': 0.14761958398568925, 'alpha': 0.00010115083209469834, 'constant_bound_min': 1.417840351328812e-05, 'constant_bound_max': 1514.7910914494844, 'len_bound_min': 1.6086051247129344e-05, 'len_bound_max': 60717.157389686414, 'n_restarts': 13}. Best is trial 94 with value: 4.390033062719786.\n",
      "[I 2025-05-03 12:24:51,014] Trial 180 finished with value: 4.390039382799062 and parameters: {'constant_value': 0.6291200576839758, 'length_scale': 0.1491582528364968, 'alpha': 0.00010040032106076128, 'constant_bound_min': 2.499538649179607e-05, 'constant_bound_max': 1742.6541107234973, 'len_bound_min': 1.7292617881989984e-05, 'len_bound_max': 47289.07352929698, 'n_restarts': 13}. Best is trial 94 with value: 4.390033062719786.\n",
      "[I 2025-05-03 12:24:51,246] Trial 181 finished with value: 4.3900690379959855 and parameters: {'constant_value': 0.5296127648431025, 'length_scale': 0.14729094047904376, 'alpha': 0.00010045067279366015, 'constant_bound_min': 2.8370289582630174e-05, 'constant_bound_max': 1779.702789130774, 'len_bound_min': 2.061697613252672e-05, 'len_bound_max': 46240.00297198678, 'n_restarts': 13}. Best is trial 94 with value: 4.390033062719786.\n",
      "[I 2025-05-03 12:24:51,478] Trial 182 finished with value: 4.390074438441546 and parameters: {'constant_value': 0.6477430122149375, 'length_scale': 0.15994253060811411, 'alpha': 0.00011566368270733563, 'constant_bound_min': 3.839675066176109e-05, 'constant_bound_max': 1422.0376981253785, 'len_bound_min': 1.8241915189004235e-05, 'len_bound_max': 58227.77677500076, 'n_restarts': 14}. Best is trial 94 with value: 4.390033062719786.\n",
      "[I 2025-05-03 12:24:51,710] Trial 183 finished with value: 4.390082660054658 and parameters: {'constant_value': 0.6263864661877796, 'length_scale': 0.1788167909682686, 'alpha': 0.0001346783233156327, 'constant_bound_min': 2.407061350317729e-05, 'constant_bound_max': 2290.261166112538, 'len_bound_min': 1.598079873047718e-05, 'len_bound_max': 25418.48415309007, 'n_restarts': 13}. Best is trial 94 with value: 4.390033062719786.\n",
      "[I 2025-05-03 12:24:51,915] Trial 184 finished with value: 4.3900657218361 and parameters: {'constant_value': 0.472281725353268, 'length_scale': 0.16609276583402566, 'alpha': 0.0001008429196961244, 'constant_bound_min': 1.924740326512825e-05, 'constant_bound_max': 1510.1187433049654, 'len_bound_min': 1.407738244567311e-05, 'len_bound_max': 48046.17010241987, 'n_restarts': 11}. Best is trial 94 with value: 4.390033062719786.\n",
      "[I 2025-05-03 12:24:52,112] Trial 185 finished with value: 4.390065814454646 and parameters: {'constant_value': 0.558142715521784, 'length_scale': 0.16576600986659507, 'alpha': 0.0001006230057104325, 'constant_bound_min': 1.771664432821128e-05, 'constant_bound_max': 1543.0048843321858, 'len_bound_min': 1.4384088957174068e-05, 'len_bound_max': 49565.675397998384, 'n_restarts': 11}. Best is trial 94 with value: 4.390033062719786.\n",
      "[I 2025-05-03 12:24:52,324] Trial 186 finished with value: 4.390042327318949 and parameters: {'constant_value': 0.42886648367951874, 'length_scale': 0.1484376917371962, 'alpha': 0.0001189149687872024, 'constant_bound_min': 1.4987654207276626e-05, 'constant_bound_max': 1385.8395840876897, 'len_bound_min': 1.593462980772021e-05, 'len_bound_max': 60655.22423868211, 'n_restarts': 12}. Best is trial 94 with value: 4.390033062719786.\n",
      "[I 2025-05-03 12:24:52,557] Trial 187 finished with value: 4.390638595872631 and parameters: {'constant_value': 0.4309392622752339, 'length_scale': 0.1444146588607912, 'alpha': 0.0017666287876307763, 'constant_bound_min': 1.4867483835419454e-05, 'constant_bound_max': 1134.7271025620698, 'len_bound_min': 2.232228750264469e-05, 'len_bound_max': 63013.46988734106, 'n_restarts': 12}. Best is trial 94 with value: 4.390033062719786.\n",
      "[I 2025-05-03 12:24:52,819] Trial 188 finished with value: 4.39007804707924 and parameters: {'constant_value': 0.6175206236099179, 'length_scale': 0.15173299180452143, 'alpha': 0.00012049706427107308, 'constant_bound_min': 1.2524538289960151e-05, 'constant_bound_max': 1315.4675212511142, 'len_bound_min': 4.760394394791171e-05, 'len_bound_max': 74786.35199546028, 'n_restarts': 15}. Best is trial 94 with value: 4.390033062719786.\n",
      "[I 2025-05-03 12:24:53,044] Trial 189 finished with value: 4.390086461769716 and parameters: {'constant_value': 0.6879220316039915, 'length_scale': 0.14159952447292581, 'alpha': 0.00014633581121314658, 'constant_bound_min': 1.1019674491599128e-05, 'constant_bound_max': 1856.345178443694, 'len_bound_min': 1.6752415167196775e-05, 'len_bound_max': 58412.44923251537, 'n_restarts': 12}. Best is trial 94 with value: 4.390033062719786.\n",
      "[I 2025-05-03 12:24:53,240] Trial 190 finished with value: 4.390086373905081 and parameters: {'constant_value': 0.5049343909149184, 'length_scale': 0.1550998133697971, 'alpha': 0.00013053727476959858, 'constant_bound_min': 0.00030353710260483353, 'constant_bound_max': 2065.8727616064707, 'len_bound_min': 1.1585958679720815e-05, 'len_bound_max': 86323.62703933212, 'n_restarts': 10}. Best is trial 94 with value: 4.390033062719786.\n",
      "[I 2025-05-03 12:24:53,457] Trial 191 finished with value: 4.390069219022837 and parameters: {'constant_value': 0.4675012558270078, 'length_scale': 0.16149029533104686, 'alpha': 0.00010021258709714502, 'constant_bound_min': 1.5730958892913816e-05, 'constant_bound_max': 1502.4033469811231, 'len_bound_min': 1.311142790220104e-05, 'len_bound_max': 46241.10922729612, 'n_restarts': 11}. Best is trial 94 with value: 4.390033062719786.\n",
      "[I 2025-05-03 12:24:53,685] Trial 192 finished with value: 4.390076265590682 and parameters: {'constant_value': 0.4138691751013081, 'length_scale': 0.18935825674191667, 'alpha': 0.0001147728208844306, 'constant_bound_min': 0.00017044495251500945, 'constant_bound_max': 1747.6009464904075, 'len_bound_min': 1.3955058477786167e-05, 'len_bound_max': 53955.98495996566, 'n_restarts': 13}. Best is trial 94 with value: 4.390033062719786.\n",
      "[I 2025-05-03 12:24:53,872] Trial 193 finished with value: 4.39006257550143 and parameters: {'constant_value': 0.5060333100811163, 'length_scale': 0.17416169758119013, 'alpha': 0.00010942500097335066, 'constant_bound_min': 1.004708397880892e-05, 'constant_bound_max': 169.54794915074012, 'len_bound_min': 1.582934849833741e-05, 'len_bound_max': 74055.99858070139, 'n_restarts': 9}. Best is trial 94 with value: 4.390033062719786.\n",
      "[I 2025-05-03 12:24:54,131] Trial 194 finished with value: 4.390067164987148 and parameters: {'constant_value': 0.5082095719469965, 'length_scale': 0.1757367620749244, 'alpha': 0.00012084589358640204, 'constant_bound_min': 1.0333447202016066e-05, 'constant_bound_max': 175.95829465856707, 'len_bound_min': 1.670844034715107e-05, 'len_bound_max': 71528.88230284689, 'n_restarts': 9}. Best is trial 94 with value: 4.390033062719786.\n",
      "c:\\Users\\imed\\Desktop\\SID\\ML\\.venv\\Lib\\site-packages\\sklearn\\gaussian_process\\kernels.py:442: ConvergenceWarning: The optimal value found for dimension 0 of parameter k2__length_scale is close to the specified lower bound 6.879221353011953e-05. Decreasing the bound and calling fit again may find a better value.\n",
      "  warnings.warn(\n",
      "[I 2025-05-03 12:24:54,298] Trial 195 finished with value: 5.002494330000157 and parameters: {'constant_value': 0.44841618227085295, 'length_scale': 0.14671405749804847, 'alpha': 0.00011108102666267951, 'constant_bound_min': 1.3812182108976984e-05, 'constant_bound_max': 129.27746766455078, 'len_bound_min': 6.879221353011953e-05, 'len_bound_max': 79001.00200205372, 'n_restarts': 8}. Best is trial 94 with value: 4.390033062719786.\n",
      "[I 2025-05-03 12:24:54,562] Trial 196 finished with value: 4.390082490131541 and parameters: {'constant_value': 0.38828733947829963, 'length_scale': 0.12801256159616167, 'alpha': 0.00012926342562752155, 'constant_bound_min': 1.2053734147381115e-05, 'constant_bound_max': 2818.18029736778, 'len_bound_min': 1.9411483753842015e-05, 'len_bound_max': 64861.10288029933, 'n_restarts': 14}. Best is trial 94 with value: 4.390033062719786.\n",
      "[I 2025-05-03 12:24:54,769] Trial 197 finished with value: 5.002494330000157 and parameters: {'constant_value': 0.5467998682203884, 'length_scale': 0.1369787109835024, 'alpha': 0.00010847232396986888, 'constant_bound_min': 1.001100084571893e-05, 'constant_bound_max': 2432.5929202137863, 'len_bound_min': 0.0007002108137067707, 'len_bound_max': 89690.66279374532, 'n_restarts': 10}. Best is trial 94 with value: 4.390033062719786.\n",
      "[I 2025-05-03 12:24:54,872] Trial 198 finished with value: 4.390077949686694 and parameters: {'constant_value': 0.5795668678392372, 'length_scale': 0.1534101792248976, 'alpha': 0.00011996513968951382, 'constant_bound_min': 1.3602390933490462e-05, 'constant_bound_max': 246.81013029070274, 'len_bound_min': 1.5492725782927e-05, 'len_bound_max': 63415.28816594542, 'n_restarts': 3}. Best is trial 94 with value: 4.390033062719786.\n",
      "[I 2025-05-03 12:24:55,125] Trial 199 finished with value: 4.3900840362480755 and parameters: {'constant_value': 0.3711702402676615, 'length_scale': 0.17377133529557037, 'alpha': 0.0001398549210176825, 'constant_bound_min': 1.6455621469006334e-05, 'constant_bound_max': 2142.457802037686, 'len_bound_min': 2.6718669750632633e-05, 'len_bound_max': 75734.79215841142, 'n_restarts': 13}. Best is trial 94 with value: 4.390033062719786.\n"
     ]
    },
    {
     "name": "stdout",
     "output_type": "stream",
     "text": [
      "Finished 200 trials\n",
      "Best trial:\n",
      "  MSE:   4.3900\n",
      "  Params:\n",
      "    constant_value: 0.9581790360612081\n",
      "    length_scale: 0.156802600198971\n",
      "    alpha: 0.00010323493569889644\n",
      "    constant_bound_min: 1.2036239471658982e-05\n",
      "    constant_bound_max: 2774.319212662227\n",
      "    len_bound_min: 1.0217352329359807e-05\n",
      "    len_bound_max: 84756.61491213234\n",
      "    n_restarts: 6\n",
      "Fitted kernel: 1**2 * RBF(length_scale=4.07)\n"
     ]
    }
   ],
   "source": [
    "import optuna\n",
    "\n",
    "\n",
    "def objective(trial):\n",
    "\n",
    "    constant_value = trial.suggest_float(\"constant_value\", 0.1, 2, log=True)\n",
    "    length_scale   = trial.suggest_float(\"length_scale\",   0.1, 2, log=True)\n",
    "    alpha          = trial.suggest_float(\"alpha\",          1e-4, 1e-2, log=True)\n",
    "    constant_bound_min = trial.suggest_float(\"constant_bound_min\", 1e-5, 1e-2, log=True)\n",
    "    constant_bound_max = trial.suggest_float(\"constant_bound_max\", 1e2, 1e5, log=True)\n",
    "    len_bound_min = trial.suggest_float(\"len_bound_min\", 1e-5, 1e-2, log=True)\n",
    "    len_bound_max = trial.suggest_float(\"len_bound_max\", 1e2, 1e5, log=True)\n",
    "    n_restarts = trial.suggest_int(\"n_restarts\", 1, 20, log=True)\n",
    "\n",
    "    kernel = C(constant_value, (constant_bound_min, constant_bound_max)) * RBF(length_scale, (len_bound_min, len_bound_max))\n",
    "    gpr = GaussianProcessRegressor(\n",
    "        kernel=kernel,\n",
    "        alpha=alpha,\n",
    "        normalize_y=True,\n",
    "        n_restarts_optimizer=n_restarts,\n",
    "        random_state=42\n",
    "    )\n",
    "    gpr.fit(X_train, y_train)\n",
    "\n",
    "    y_pred, _ = gpr.predict(X_val, return_std=True)\n",
    "    return np.sqrt(mean_squared_error(y_val, y_pred))\n",
    "\n",
    "\n",
    "study = optuna.create_study(direction=\"minimize\", sampler=optuna.samplers.TPESampler(seed=42))\n",
    "study.optimize(objective, n_trials=200, timeout=600)  # e.g. 50 trials or 10 minutes\n",
    "\n",
    "\n",
    "print(f\"Finished {len(study.trials)} trials\")\n",
    "print(\"Best trial:\")\n",
    "print(f\"  MSE:   {study.best_trial.value:.4f}\")\n",
    "print(\"  Params:\")\n",
    "for k, v in study.best_trial.params.items():\n",
    "    print(f\"    {k}: {v}\")\n",
    "\n",
    "\n",
    "best_params = study.best_trial.params\n",
    "best_kernel = C(best_params[\"constant_value\"], (best_params[\"constant_bound_min\"], best_params[\"constant_bound_max\"])) * RBF(best_params[\"length_scale\"], (best_params[\"len_bound_min\"], best_params[\"len_bound_max\"]))\n",
    "best_gpr = GaussianProcessRegressor(\n",
    "    kernel=best_kernel,\n",
    "    alpha=best_params[\"alpha\"],\n",
    "    normalize_y=True,\n",
    "    n_restarts_optimizer=best_params[\"n_restarts\"],\n",
    "    random_state=42\n",
    ")\n",
    "best_gpr.fit(X_train, y_train)\n",
    "print(\"Fitted kernel:\", best_gpr.kernel_)\n",
    "# X_combined = np.vstack([X_train, X_val])\n",
    "# y_combined = np.concatenate([y_train, y_val])\n",
    "# best_gpr.fit(X_combined, y_combined)\n",
    "# print(\"Refit complete. Final kernel:\", best_gpr.kernel_)\n"
   ]
  },
  {
   "cell_type": "code",
   "execution_count": 68,
   "id": "b38b3bd5",
   "metadata": {},
   "outputs": [
    {
     "name": "stdout",
     "output_type": "stream",
     "text": [
      "\n",
      "Validation RMSE: 4.3900\n",
      "\n"
     ]
    }
   ],
   "source": [
    "y_pred_val, y_std_val = best_gpr.predict(X_val, return_std=True)\n",
    "mse = mean_squared_error(y_val, y_pred_val)\n",
    "print(f\"\\nValidation RMSE: {np.sqrt(mse):.4f}\\n\")"
   ]
  },
  {
   "cell_type": "code",
   "execution_count": 69,
   "id": "b6980e4a",
   "metadata": {},
   "outputs": [
    {
     "data": {
      "text/plain": [
       "array([71.93693388, 70.4961909 , 72.13216883, 70.83149895, 70.92049944,\n",
       "       71.04589048, 69.93767765])"
      ]
     },
     "execution_count": 69,
     "metadata": {},
     "output_type": "execute_result"
    }
   ],
   "source": [
    "y_pred_val"
   ]
  },
  {
   "cell_type": "code",
   "execution_count": 43,
   "id": "5eedde38",
   "metadata": {},
   "outputs": [
    {
     "data": {
      "text/plain": [
       "['initial_conv_hp_channels',\n",
       " 'initial_conv_hp_kernel_size',\n",
       " 'initial_conv_hp_stride',\n",
       " 'block_0_expanded_channels',\n",
       " 'block_0_use_se',\n",
       " 'block_0_se_squeeze_factor',\n",
       " 'block_0_channels',\n",
       " 'block_0_kernel_size',\n",
       " 'block_0_stride',\n",
       " 'block_1_expanded_channels',\n",
       " 'block_1_use_se',\n",
       " 'block_1_se_squeeze_factor',\n",
       " 'block_1_channels',\n",
       " 'block_1_kernel_size',\n",
       " 'block_1_stride',\n",
       " 'block_2_expanded_channels',\n",
       " 'block_2_use_se',\n",
       " 'block_2_se_squeeze_factor',\n",
       " 'block_2_channels',\n",
       " 'block_2_kernel_size',\n",
       " 'block_2_stride',\n",
       " 'block_3_expanded_channels',\n",
       " 'block_3_use_se',\n",
       " 'block_3_se_squeeze_factor',\n",
       " 'block_3_channels',\n",
       " 'block_3_kernel_size',\n",
       " 'block_3_stride',\n",
       " 'block_4_expanded_channels',\n",
       " 'block_4_use_se',\n",
       " 'block_4_se_squeeze_factor',\n",
       " 'block_4_channels',\n",
       " 'block_4_kernel_size',\n",
       " 'block_4_stride',\n",
       " 'block_5_expanded_channels',\n",
       " 'block_5_use_se',\n",
       " 'block_5_se_squeeze_factor',\n",
       " 'block_5_channels',\n",
       " 'block_5_kernel_size',\n",
       " 'block_5_stride',\n",
       " 'block_6_expanded_channels',\n",
       " 'block_6_use_se',\n",
       " 'block_6_se_squeeze_factor',\n",
       " 'block_6_channels',\n",
       " 'block_6_kernel_size',\n",
       " 'block_6_stride',\n",
       " 'block_7_expanded_channels',\n",
       " 'block_7_use_se',\n",
       " 'block_7_se_squeeze_factor',\n",
       " 'block_7_channels',\n",
       " 'block_7_kernel_size',\n",
       " 'block_7_stride',\n",
       " 'block_8_expanded_channels',\n",
       " 'block_8_use_se',\n",
       " 'block_8_se_squeeze_factor',\n",
       " 'block_8_channels',\n",
       " 'block_8_kernel_size',\n",
       " 'block_8_stride',\n",
       " 'block_9_expanded_channels',\n",
       " 'block_9_use_se',\n",
       " 'block_9_se_squeeze_factor',\n",
       " 'block_9_channels',\n",
       " 'block_9_kernel_size',\n",
       " 'block_9_stride',\n",
       " 'block_10_expanded_channels',\n",
       " 'block_10_use_se',\n",
       " 'block_10_se_squeeze_factor',\n",
       " 'block_10_channels',\n",
       " 'block_10_kernel_size',\n",
       " 'block_10_stride',\n",
       " 'last_conv_upsample',\n",
       " 'last_conv_hp_channels',\n",
       " 'last_conv_hp_kernel_size',\n",
       " 'last_conv_hp_stride',\n",
       " 'classifier_hp_neurons',\n",
       " 'classifier_hp_dropout_rate',\n",
       " 'initial_conv_hp_activation_Hardswish',\n",
       " 'initial_conv_hp_activation_ReLU',\n",
       " 'block_0_se_activation_Hardsigmoid',\n",
       " 'block_0_se_activation_Sigmoid',\n",
       " 'block_0_activation_Hardswish',\n",
       " 'block_0_activation_ReLU',\n",
       " 'block_1_se_activation_NONE',\n",
       " 'block_1_activation_Hardswish',\n",
       " 'block_1_activation_ReLU',\n",
       " 'block_2_se_activation_NONE',\n",
       " 'block_2_activation_Hardswish',\n",
       " 'block_2_activation_ReLU',\n",
       " 'block_3_se_activation_Hardsigmoid',\n",
       " 'block_3_se_activation_Sigmoid',\n",
       " 'block_3_activation_Hardswish',\n",
       " 'block_3_activation_ReLU',\n",
       " 'block_4_se_activation_Hardsigmoid',\n",
       " 'block_4_se_activation_Sigmoid',\n",
       " 'block_4_activation_Hardswish',\n",
       " 'block_4_activation_ReLU',\n",
       " 'block_5_se_activation_Hardsigmoid',\n",
       " 'block_5_se_activation_Sigmoid',\n",
       " 'block_5_activation_Hardswish',\n",
       " 'block_5_activation_ReLU',\n",
       " 'block_6_se_activation_Hardsigmoid',\n",
       " 'block_6_se_activation_Sigmoid',\n",
       " 'block_6_activation_Hardswish',\n",
       " 'block_6_activation_ReLU',\n",
       " 'block_7_se_activation_Hardsigmoid',\n",
       " 'block_7_se_activation_Sigmoid',\n",
       " 'block_7_activation_Hardswish',\n",
       " 'block_7_activation_ReLU',\n",
       " 'block_8_se_activation_Hardsigmoid',\n",
       " 'block_8_se_activation_Sigmoid',\n",
       " 'block_8_activation_Hardswish',\n",
       " 'block_8_activation_ReLU',\n",
       " 'block_9_se_activation_Hardsigmoid',\n",
       " 'block_9_se_activation_Sigmoid',\n",
       " 'block_9_activation_Hardswish',\n",
       " 'block_9_activation_ReLU',\n",
       " 'block_10_se_activation_Hardsigmoid',\n",
       " 'block_10_se_activation_Sigmoid',\n",
       " 'block_10_activation_Hardswish',\n",
       " 'block_10_activation_ReLU',\n",
       " 'last_conv_hp_activation_Hardswish',\n",
       " 'last_conv_hp_activation_ReLU',\n",
       " 'classifier_hp_activation_Hardswish',\n",
       " 'classifier_hp_activation_ReLU']"
      ]
     },
     "execution_count": 43,
     "metadata": {},
     "output_type": "execute_result"
    }
   ],
   "source": [
    "X.columns.to_list()"
   ]
  },
  {
   "cell_type": "code",
   "execution_count": 70,
   "id": "0a34d22d",
   "metadata": {},
   "outputs": [],
   "source": [
    "confidence_z = {\n",
    "    0.40: 0.524,   # 40%\n",
    "    0.50: 0.674,   # 50%\n",
    "    0.60: 0.841,   # 60%\n",
    "    0.70: 1.036,   # 70%\n",
    "    0.80: 1.282,   # 80%\n",
    "    0.85: 1.440,   # 85%\n",
    "    0.90: 1.645,   # 90%\n",
    "    0.95: 1.960,   # 95%\n",
    "    0.98: 2.326,   # 98%\n",
    "    0.99: 2.576,   # 99%\n",
    "    0.999: 3.291,  # 99.9%\n",
    "    0.9999: 3.891  # 99.99%\n",
    "}"
   ]
  },
  {
   "cell_type": "code",
   "execution_count": 71,
   "id": "a5a23dae",
   "metadata": {},
   "outputs": [
    {
     "name": "stdout",
     "output_type": "stream",
     "text": [
      "Confidence level: 90.0%\n",
      "Val Sample:  True = 67.440, Predicted = 71.937, CI ≈ [63.458, 80.415]\n",
      "Val Sample:  True = 63.400, Predicted = 70.497, CI ≈ [61.966, 79.027]\n",
      "Val Sample:  True = 69.890, Predicted = 72.132, CI ≈ [63.596, 80.667]\n",
      "Val Sample:  True = 71.760, Predicted = 70.832, CI ≈ [62.299, 79.365]\n",
      "Val Sample:  True = 65.660, Predicted = 70.921, CI ≈ [62.403, 79.439]\n",
      "Val Sample:  True = 73.410, Predicted = 71.046, CI ≈ [62.623, 79.469]\n",
      "Val Sample:  True = 64.920, Predicted = 69.939, CI ≈ [61.719, 78.158]\n"
     ]
    }
   ],
   "source": [
    "confidence = 0.9\n",
    "z = confidence_z[confidence]\n",
    "print(f\"Confidence level: {confidence*100:.1f}%\")\n",
    "\n",
    "for x_val, y_true in zip(X_val, y_val):\n",
    "    x_val = x_val.reshape(1, -1)\n",
    "    y_pred, y_std = gpr.predict(x_val, return_std=True)\n",
    "    mean = y_pred[0]\n",
    "    std = y_std[0]\n",
    "    ci = z * std\n",
    "    print(f\"Val Sample:  True = {y_true:.3f}, Predicted = {mean:.3f}, CI ≈ [{mean - ci:.3f}, {mean + ci:.3f}]\")"
   ]
  },
  {
   "cell_type": "code",
   "execution_count": 72,
   "id": "3b4ca785",
   "metadata": {},
   "outputs": [
    {
     "name": "stdout",
     "output_type": "stream",
     "text": [
      "Confidence level: 90.0%\n",
      "True: 67.440 | Pred: 71.937 | CI ±8.479 → [63.458, 80.415] | UCB: 80.415 | EI: 0.116721\n",
      "True: 63.400 | Pred: 70.497 | CI ±8.531 → [61.966, 79.027] | UCB: 79.027 | EI: 0.060557\n",
      "True: 69.890 | Pred: 72.132 | CI ±8.535 → [63.596, 80.667] | UCB: 80.667 | EI: 0.131624\n",
      "True: 71.760 | Pred: 70.832 | CI ±8.533 → [62.299, 79.365] | UCB: 79.365 | EI: 0.071532\n",
      "True: 65.660 | Pred: 70.921 | CI ±8.518 → [62.403, 79.439] | UCB: 79.439 | EI: 0.073963\n",
      "True: 73.410 | Pred: 71.046 | CI ±8.423 → [62.623, 79.469] | UCB: 79.469 | EI: 0.073919\n",
      "True: 64.920 | Pred: 69.939 | CI ±8.219 → [61.719, 78.158] | UCB: 78.158 | EI: 0.035914\n"
     ]
    }
   ],
   "source": [
    "from scipy.stats import norm\n",
    "\n",
    "confidence = 0.9\n",
    "z = confidence_z[confidence]\n",
    "print(f\"Confidence level: {confidence*100:.1f}%\")\n",
    "\n",
    "kappa = z\n",
    "xi = 0.01\n",
    "y_best = max(y_train)\n",
    "\n",
    "for x_val, y_true in zip(X_val, y_val):\n",
    "    x_val = x_val.reshape(1, -1)\n",
    "    y_pred, y_std = gpr.predict(x_val, return_std=True)\n",
    "    mean = y_pred[0]\n",
    "    std = y_std[0]\n",
    "    ci = z * std\n",
    "    ucb = mean + kappa * std\n",
    "    if std == 0:\n",
    "        ei = 0.0\n",
    "    else:\n",
    "        z_ei = (mean - y_best - xi) / std\n",
    "        ei = (mean - y_best - xi) * norm.cdf(z_ei) + std * norm.pdf(z_ei)\n",
    "\n",
    "    print(\n",
    "        f\"True: {y_true:.3f} | Pred: {mean:.3f} | CI ±{ci:.3f} → [{mean - ci:.3f}, {mean + ci:.3f}]\"\n",
    "        f\" | UCB: {ucb:.3f} | EI: {ei:.6f}\"\n",
    "    )"
   ]
  },
  {
   "cell_type": "code",
   "execution_count": 82,
   "id": "bb1d10a8",
   "metadata": {},
   "outputs": [
    {
     "name": "stdout",
     "output_type": "stream",
     "text": [
      "Benchmarking regressors...\n",
      "\n",
      "Ridge              RMSE: 4.5738\n",
      "Lasso              RMSE: 4.5055\n",
      "BayesianRidge      RMSE: 4.8840\n",
      "RandomForest       RMSE: 4.4320\n",
      "GradientBoosting   RMSE: 4.5788\n",
      "SVR                RMSE: 5.8962\n",
      "KNN                RMSE: 4.0391\n",
      "DecisionTree       RMSE: 5.3660\n"
     ]
    }
   ],
   "source": [
    "from sklearn.linear_model import Ridge, Lasso, BayesianRidge\n",
    "from sklearn.ensemble import RandomForestRegressor, GradientBoostingRegressor\n",
    "from sklearn.svm import SVR\n",
    "from sklearn.neighbors import KNeighborsRegressor\n",
    "from sklearn.tree import DecisionTreeRegressor\n",
    "from sklearn.metrics import mean_squared_error\n",
    "from sklearn.pipeline import make_pipeline\n",
    "from sklearn.preprocessing import StandardScaler\n",
    "import numpy as np\n",
    "\n",
    "# Optional: add more models here\n",
    "regressors = {\n",
    "    \"Ridge\": Ridge(),\n",
    "    \"Lasso\": Lasso(),\n",
    "    \"BayesianRidge\": BayesianRidge(),\n",
    "    \"RandomForest\": RandomForestRegressor(),\n",
    "    \"GradientBoosting\": GradientBoostingRegressor(),\n",
    "    \"SVR\": SVR(),\n",
    "    \"KNN\": KNeighborsRegressor(n_neighbors=6),\n",
    "    \"DecisionTree\": DecisionTreeRegressor(),\n",
    "}\n",
    "\n",
    "print(\"Benchmarking regressors...\\n\")\n",
    "\n",
    "results = []\n",
    "\n",
    "for name, model in regressors.items():\n",
    "    # Wrap with a pipeline that includes feature scaling\n",
    "    pipe = make_pipeline(StandardScaler(), model)\n",
    "    pipe.fit(X_train, y_train)\n",
    "    y_pred = pipe.predict(X_val)\n",
    "    rmse = np.sqrt(mean_squared_error(y_val, y_pred))\n",
    "    results.append((name, rmse))\n",
    "    print(f\"{name:<18} RMSE: {rmse:.4f}\")\n"
   ]
  },
  {
   "cell_type": "code",
   "execution_count": null,
   "id": "0a7d923e",
   "metadata": {},
   "outputs": [],
   "source": []
  }
 ],
 "metadata": {
  "kernelspec": {
   "display_name": "carbon",
   "language": "python",
   "name": "python3"
  },
  "language_info": {
   "codemirror_mode": {
    "name": "ipython",
    "version": 3
   },
   "file_extension": ".py",
   "mimetype": "text/x-python",
   "name": "python",
   "nbconvert_exporter": "python",
   "pygments_lexer": "ipython3",
   "version": "3.12.4"
  }
 },
 "nbformat": 4,
 "nbformat_minor": 5
}
