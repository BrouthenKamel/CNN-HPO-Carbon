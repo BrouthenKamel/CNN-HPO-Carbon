{
 "cells": [
  {
   "cell_type": "markdown",
   "id": "95e53e98",
   "metadata": {},
   "source": [
    "# modules"
   ]
  },
  {
   "cell_type": "code",
   "execution_count": 79,
   "id": "201579ce",
   "metadata": {},
   "outputs": [],
   "source": [
    "import numpy as np\n",
    "import pandas as pd\n",
    "\n",
    "from sklearn.gaussian_process import GaussianProcessRegressor\n",
    "from sklearn.gaussian_process.kernels import RBF, ConstantKernel as C\n",
    "from sklearn.decomposition import PCA\n",
    "\n",
    "from sklearn.model_selection import train_test_split\n",
    "from sklearn.metrics import mean_squared_error\n",
    "\n",
    "from sklearn.preprocessing import StandardScaler\n",
    "from sklearn.feature_selection import VarianceThreshold\n",
    "\n",
    "import matplotlib.pyplot as plt"
   ]
  },
  {
   "cell_type": "markdown",
   "id": "36ce1779",
   "metadata": {},
   "source": [
    "# data"
   ]
  },
  {
   "cell_type": "code",
   "execution_count": 4,
   "id": "af08d4e8",
   "metadata": {},
   "outputs": [
    {
     "name": "stdout",
     "output_type": "stream",
     "text": [
      "/home/brouthen/sid/CNN-HPO-Carbon/src/surrogate_modeling/rbf/playground\n"
     ]
    }
   ],
   "source": [
    "!pwd"
   ]
  },
  {
   "cell_type": "code",
   "execution_count": 80,
   "id": "3c96463b",
   "metadata": {},
   "outputs": [],
   "source": [
    "df = pd.read_csv('../../../../dataset/surrogate.csv')"
   ]
  },
  {
   "cell_type": "markdown",
   "id": "c6a19c5f",
   "metadata": {},
   "source": [
    "# process"
   ]
  },
  {
   "cell_type": "code",
   "execution_count": 81,
   "id": "43bd4857",
   "metadata": {},
   "outputs": [],
   "source": [
    "cat_cols = df.select_dtypes(include=['object']).columns"
   ]
  },
  {
   "cell_type": "code",
   "execution_count": 82,
   "id": "fbe1430f",
   "metadata": {},
   "outputs": [],
   "source": [
    "df = pd.get_dummies(df, columns=cat_cols)"
   ]
  },
  {
   "cell_type": "markdown",
   "id": "4086e218",
   "metadata": {},
   "source": [
    "# split"
   ]
  },
  {
   "cell_type": "code",
   "execution_count": 83,
   "id": "a9910c67",
   "metadata": {},
   "outputs": [],
   "source": [
    "X = df.drop(columns=['train_accuracy', 'test_accuracy'])\n",
    "y = df['test_accuracy']\n",
    "y_ = df['train_accuracy']"
   ]
  },
  {
   "cell_type": "code",
   "execution_count": 85,
   "id": "2aca1cee",
   "metadata": {},
   "outputs": [
    {
     "data": {
      "text/plain": [
       "((63, 123), (63,))"
      ]
     },
     "execution_count": 85,
     "metadata": {},
     "output_type": "execute_result"
    }
   ],
   "source": [
    "X.shape, y.shape"
   ]
  },
  {
   "cell_type": "code",
   "execution_count": 9,
   "id": "267e1a1f",
   "metadata": {},
   "outputs": [
    {
     "data": {
      "text/plain": [
       "(np.float64(71.28746031746032),\n",
       " 5.231961936410191,\n",
       " np.float64(72.69552380952379),\n",
       " 5.741509621809161)"
      ]
     },
     "execution_count": 9,
     "metadata": {},
     "output_type": "execute_result"
    }
   ],
   "source": [
    "y.mean(), y.std(), y_.mean(), y_.std()"
   ]
  },
  {
   "cell_type": "code",
   "execution_count": 67,
   "id": "6de7143e",
   "metadata": {},
   "outputs": [],
   "source": [
    "X_train, X_val, y_train, y_val = train_test_split(X, y, test_size=0.1, random_state=42)"
   ]
  },
  {
   "cell_type": "code",
   "execution_count": 200,
   "id": "88845e32",
   "metadata": {},
   "outputs": [],
   "source": [
    "X_train = X\n",
    "X_val = X\n",
    "y_train = y\n",
    "y_val = y"
   ]
  },
  {
   "cell_type": "code",
   "execution_count": 68,
   "id": "267e56ce",
   "metadata": {},
   "outputs": [],
   "source": [
    "selector = VarianceThreshold(threshold=0.01)\n",
    "X_train = selector.fit_transform(X_train)\n",
    "X_val = selector.transform(X_val)"
   ]
  },
  {
   "cell_type": "code",
   "execution_count": 69,
   "id": "fb43aebb",
   "metadata": {},
   "outputs": [],
   "source": [
    "scaler = StandardScaler()\n",
    "X_train = scaler.fit_transform(X_train)\n",
    "X_val = scaler.transform(X_val)"
   ]
  },
  {
   "cell_type": "code",
   "execution_count": 70,
   "id": "3bcceb3f",
   "metadata": {},
   "outputs": [],
   "source": [
    "pca = PCA(n_components=0.9)\n",
    "X_train = pca.fit_transform(X_train)\n",
    "X_val = pca.transform(X_val)"
   ]
  },
  {
   "cell_type": "code",
   "execution_count": 32,
   "id": "acb6495e",
   "metadata": {},
   "outputs": [
    {
     "data": {
      "text/plain": [
       "((50, 106), (13, 106))"
      ]
     },
     "execution_count": 32,
     "metadata": {},
     "output_type": "execute_result"
    }
   ],
   "source": [
    "X_train.shape, X_val.shape"
   ]
  },
  {
   "cell_type": "markdown",
   "id": "f5729ecc",
   "metadata": {},
   "source": [
    "# model"
   ]
  },
  {
   "cell_type": "code",
   "execution_count": 71,
   "id": "c079fa56",
   "metadata": {},
   "outputs": [
    {
     "name": "stdout",
     "output_type": "stream",
     "text": [
      "Fitted kernel: 1**2 * RBF(length_scale=4.08)\n"
     ]
    }
   ],
   "source": [
    "kernel = C(1, (1e-3, 1e3)) * RBF(length_scale=1, length_scale_bounds=(1e-3, 1e3))\n",
    "\n",
    "gpr = GaussianProcessRegressor(kernel=kernel, alpha=1e-3, normalize_y=True, n_restarts_optimizer=200)\n",
    "\n",
    "gpr.fit(X_train, y_train)\n",
    "print(\"Fitted kernel:\", gpr.kernel_)"
   ]
  },
  {
   "cell_type": "code",
   "execution_count": 72,
   "id": "51289290",
   "metadata": {},
   "outputs": [
    {
     "name": "stdout",
     "output_type": "stream",
     "text": [
      "\n",
      "Validation RMSE: 4.3904\n",
      "\n"
     ]
    }
   ],
   "source": [
    "y_pred_val, y_std_val = gpr.predict(X_val, return_std=True)\n",
    "mse = mean_squared_error(y_val, y_pred_val)\n",
    "print(f\"\\nValidation RMSE: {np.sqrt(mse):.4f}\\n\")"
   ]
  },
  {
   "cell_type": "code",
   "execution_count": 39,
   "id": "b6980e4a",
   "metadata": {},
   "outputs": [
    {
     "data": {
      "text/plain": [
       "array([71.55060835, 69.0423331 , 73.06658503, 70.53660801, 70.96998976,\n",
       "       71.88627471, 70.9139938 , 70.50995032, 71.98804694, 70.94118538,\n",
       "       72.8919247 , 70.82261152, 73.08423302])"
      ]
     },
     "execution_count": 39,
     "metadata": {},
     "output_type": "execute_result"
    }
   ],
   "source": [
    "y_pred_val"
   ]
  },
  {
   "cell_type": "code",
   "execution_count": 78,
   "id": "5eedde38",
   "metadata": {},
   "outputs": [
    {
     "data": {
      "text/plain": [
       "['initial_conv_hp_channels',\n",
       " 'initial_conv_hp_kernel_size',\n",
       " 'initial_conv_hp_stride',\n",
       " 'block_0_expanded_channels',\n",
       " 'block_0_use_se',\n",
       " 'block_0_se_squeeze_factor',\n",
       " 'block_0_channels',\n",
       " 'block_0_kernel_size',\n",
       " 'block_0_stride',\n",
       " 'block_1_expanded_channels',\n",
       " 'block_1_use_se',\n",
       " 'block_1_se_squeeze_factor',\n",
       " 'block_1_channels',\n",
       " 'block_1_kernel_size',\n",
       " 'block_1_stride',\n",
       " 'block_2_expanded_channels',\n",
       " 'block_2_use_se',\n",
       " 'block_2_se_squeeze_factor',\n",
       " 'block_2_channels',\n",
       " 'block_2_kernel_size',\n",
       " 'block_2_stride',\n",
       " 'block_3_expanded_channels',\n",
       " 'block_3_use_se',\n",
       " 'block_3_se_squeeze_factor',\n",
       " 'block_3_channels',\n",
       " 'block_3_kernel_size',\n",
       " 'block_3_stride',\n",
       " 'block_4_expanded_channels',\n",
       " 'block_4_use_se',\n",
       " 'block_4_se_squeeze_factor',\n",
       " 'block_4_channels',\n",
       " 'block_4_kernel_size',\n",
       " 'block_4_stride',\n",
       " 'block_5_expanded_channels',\n",
       " 'block_5_use_se',\n",
       " 'block_5_se_squeeze_factor',\n",
       " 'block_5_channels',\n",
       " 'block_5_kernel_size',\n",
       " 'block_5_stride',\n",
       " 'block_6_expanded_channels',\n",
       " 'block_6_use_se',\n",
       " 'block_6_se_squeeze_factor',\n",
       " 'block_6_channels',\n",
       " 'block_6_kernel_size',\n",
       " 'block_6_stride',\n",
       " 'block_7_expanded_channels',\n",
       " 'block_7_use_se',\n",
       " 'block_7_se_squeeze_factor',\n",
       " 'block_7_channels',\n",
       " 'block_7_kernel_size',\n",
       " 'block_7_stride',\n",
       " 'block_8_expanded_channels',\n",
       " 'block_8_use_se',\n",
       " 'block_8_se_squeeze_factor',\n",
       " 'block_8_channels',\n",
       " 'block_8_kernel_size',\n",
       " 'block_8_stride',\n",
       " 'block_9_expanded_channels',\n",
       " 'block_9_use_se',\n",
       " 'block_9_se_squeeze_factor',\n",
       " 'block_9_channels',\n",
       " 'block_9_kernel_size',\n",
       " 'block_9_stride',\n",
       " 'block_10_expanded_channels',\n",
       " 'block_10_use_se',\n",
       " 'block_10_se_squeeze_factor',\n",
       " 'block_10_channels',\n",
       " 'block_10_kernel_size',\n",
       " 'block_10_stride',\n",
       " 'last_conv_upsample',\n",
       " 'last_conv_hp_channels',\n",
       " 'last_conv_hp_kernel_size',\n",
       " 'last_conv_hp_stride',\n",
       " 'classifier_hp_neurons',\n",
       " 'classifier_hp_dropout_rate',\n",
       " 'initial_conv_hp_activation_Hardswish',\n",
       " 'initial_conv_hp_activation_ReLU',\n",
       " 'block_0_se_activation_Hardsigmoid',\n",
       " 'block_0_se_activation_Sigmoid',\n",
       " 'block_0_activation_Hardswish',\n",
       " 'block_0_activation_ReLU',\n",
       " 'block_1_se_activation_NONE',\n",
       " 'block_1_activation_Hardswish',\n",
       " 'block_1_activation_ReLU',\n",
       " 'block_2_se_activation_NONE',\n",
       " 'block_2_activation_Hardswish',\n",
       " 'block_2_activation_ReLU',\n",
       " 'block_3_se_activation_Hardsigmoid',\n",
       " 'block_3_se_activation_Sigmoid',\n",
       " 'block_3_activation_Hardswish',\n",
       " 'block_3_activation_ReLU',\n",
       " 'block_4_se_activation_Hardsigmoid',\n",
       " 'block_4_se_activation_Sigmoid',\n",
       " 'block_4_activation_Hardswish',\n",
       " 'block_4_activation_ReLU',\n",
       " 'block_5_se_activation_Hardsigmoid',\n",
       " 'block_5_se_activation_Sigmoid',\n",
       " 'block_5_activation_Hardswish',\n",
       " 'block_5_activation_ReLU',\n",
       " 'block_6_se_activation_Hardsigmoid',\n",
       " 'block_6_se_activation_Sigmoid',\n",
       " 'block_6_activation_Hardswish',\n",
       " 'block_6_activation_ReLU',\n",
       " 'block_7_se_activation_Hardsigmoid',\n",
       " 'block_7_se_activation_Sigmoid',\n",
       " 'block_7_activation_Hardswish',\n",
       " 'block_7_activation_ReLU',\n",
       " 'block_8_se_activation_Hardsigmoid',\n",
       " 'block_8_se_activation_Sigmoid',\n",
       " 'block_8_activation_Hardswish',\n",
       " 'block_8_activation_ReLU',\n",
       " 'block_9_se_activation_Hardsigmoid',\n",
       " 'block_9_se_activation_Sigmoid',\n",
       " 'block_9_activation_Hardswish',\n",
       " 'block_9_activation_ReLU',\n",
       " 'block_10_se_activation_Hardsigmoid',\n",
       " 'block_10_se_activation_Sigmoid',\n",
       " 'block_10_activation_Hardswish',\n",
       " 'block_10_activation_ReLU',\n",
       " 'last_conv_hp_activation_Hardswish',\n",
       " 'last_conv_hp_activation_ReLU',\n",
       " 'classifier_hp_activation_Hardswish',\n",
       " 'classifier_hp_activation_ReLU']"
      ]
     },
     "execution_count": 78,
     "metadata": {},
     "output_type": "execute_result"
    }
   ],
   "source": [
    "X.columns.to_list()"
   ]
  },
  {
   "cell_type": "code",
   "execution_count": 43,
   "id": "0a34d22d",
   "metadata": {},
   "outputs": [],
   "source": [
    "confidence_z = {\n",
    "    0.40: 0.524,   # 40%\n",
    "    0.50: 0.674,   # 50%\n",
    "    0.60: 0.841,   # 60%\n",
    "    0.70: 1.036,   # 70%\n",
    "    0.80: 1.282,   # 80%\n",
    "    0.85: 1.440,   # 85%\n",
    "    0.90: 1.645,   # 90%\n",
    "    0.95: 1.960,   # 95%\n",
    "    0.98: 2.326,   # 98%\n",
    "    0.99: 2.576,   # 99%\n",
    "    0.999: 3.291,  # 99.9%\n",
    "    0.9999: 3.891  # 99.99%\n",
    "}"
   ]
  },
  {
   "cell_type": "code",
   "execution_count": 73,
   "id": "a5a23dae",
   "metadata": {},
   "outputs": [
    {
     "name": "stdout",
     "output_type": "stream",
     "text": [
      "Confidence level: 90.0%\n",
      "Val Sample:  True = 67.440, Predicted = 71.937, CI ≈ [63.458, 80.415]\n",
      "Val Sample:  True = 63.400, Predicted = 70.497, CI ≈ [61.966, 79.027]\n",
      "Val Sample:  True = 69.890, Predicted = 72.132, CI ≈ [63.596, 80.667]\n",
      "Val Sample:  True = 71.760, Predicted = 70.832, CI ≈ [62.299, 79.365]\n",
      "Val Sample:  True = 65.660, Predicted = 70.921, CI ≈ [62.403, 79.439]\n",
      "Val Sample:  True = 73.410, Predicted = 71.046, CI ≈ [62.623, 79.469]\n",
      "Val Sample:  True = 64.920, Predicted = 69.939, CI ≈ [61.719, 78.158]\n"
     ]
    }
   ],
   "source": [
    "confidence = 0.9\n",
    "z = confidence_z[confidence]\n",
    "print(f\"Confidence level: {confidence*100:.1f}%\")\n",
    "\n",
    "for x_val, y_true in zip(X_val, y_val):\n",
    "    x_val = x_val.reshape(1, -1)\n",
    "    y_pred, y_std = gpr.predict(x_val, return_std=True)\n",
    "    mean = y_pred[0]\n",
    "    std = y_std[0]\n",
    "    ci = z * std\n",
    "    print(f\"Val Sample:  True = {y_true:.3f}, Predicted = {mean:.3f}, CI ≈ [{mean - ci:.3f}, {mean + ci:.3f}]\")"
   ]
  },
  {
   "cell_type": "code",
   "execution_count": 74,
   "id": "3b4ca785",
   "metadata": {},
   "outputs": [
    {
     "name": "stdout",
     "output_type": "stream",
     "text": [
      "Confidence level: 90.0%\n",
      "True: 67.440 | Pred: 71.937 | CI ±8.479 → [63.458, 80.415] | UCB: 80.415 | EI: 0.116721\n",
      "True: 63.400 | Pred: 70.497 | CI ±8.531 → [61.966, 79.027] | UCB: 79.027 | EI: 0.060557\n",
      "True: 69.890 | Pred: 72.132 | CI ±8.535 → [63.596, 80.667] | UCB: 80.667 | EI: 0.131624\n",
      "True: 71.760 | Pred: 70.832 | CI ±8.533 → [62.299, 79.365] | UCB: 79.365 | EI: 0.071532\n",
      "True: 65.660 | Pred: 70.921 | CI ±8.518 → [62.403, 79.439] | UCB: 79.439 | EI: 0.073963\n",
      "True: 73.410 | Pred: 71.046 | CI ±8.423 → [62.623, 79.469] | UCB: 79.469 | EI: 0.073919\n",
      "True: 64.920 | Pred: 69.939 | CI ±8.219 → [61.719, 78.158] | UCB: 78.158 | EI: 0.035914\n"
     ]
    }
   ],
   "source": [
    "from scipy.stats import norm\n",
    "\n",
    "confidence = 0.9\n",
    "z = confidence_z[confidence]\n",
    "print(f\"Confidence level: {confidence*100:.1f}%\")\n",
    "\n",
    "kappa = z\n",
    "xi = 0.01\n",
    "y_best = max(y_train)\n",
    "\n",
    "for x_val, y_true in zip(X_val, y_val):\n",
    "    x_val = x_val.reshape(1, -1)\n",
    "    y_pred, y_std = gpr.predict(x_val, return_std=True)\n",
    "    mean = y_pred[0]\n",
    "    std = y_std[0]\n",
    "    ci = z * std\n",
    "    ucb = mean + kappa * std\n",
    "    if std == 0:\n",
    "        ei = 0.0\n",
    "    else:\n",
    "        z_ei = (mean - y_best - xi) / std\n",
    "        ei = (mean - y_best - xi) * norm.cdf(z_ei) + std * norm.pdf(z_ei)\n",
    "\n",
    "    print(\n",
    "        f\"True: {y_true:.3f} | Pred: {mean:.3f} | CI ±{ci:.3f} → [{mean - ci:.3f}, {mean + ci:.3f}]\"\n",
    "        f\" | UCB: {ucb:.3f} | EI: {ei:.6f}\"\n",
    "    )"
   ]
  },
  {
   "cell_type": "code",
   "execution_count": 76,
   "id": "bb1d10a8",
   "metadata": {},
   "outputs": [
    {
     "name": "stdout",
     "output_type": "stream",
     "text": [
      "Benchmarking regressors...\n",
      "\n",
      "Ridge              RMSE: 4.5738\n",
      "Lasso              RMSE: 4.5055\n",
      "BayesianRidge      RMSE: 4.8840\n",
      "RandomForest       RMSE: 4.1550\n",
      "GradientBoosting   RMSE: 4.4979\n",
      "SVR                RMSE: 5.8962\n",
      "KNN                RMSE: 4.1741\n",
      "DecisionTree       RMSE: 5.6034\n"
     ]
    }
   ],
   "source": [
    "from sklearn.linear_model import Ridge, Lasso, BayesianRidge\n",
    "from sklearn.ensemble import RandomForestRegressor, GradientBoostingRegressor\n",
    "from sklearn.svm import SVR\n",
    "from sklearn.neighbors import KNeighborsRegressor\n",
    "from sklearn.tree import DecisionTreeRegressor\n",
    "from sklearn.metrics import mean_squared_error\n",
    "from sklearn.pipeline import make_pipeline\n",
    "from sklearn.preprocessing import StandardScaler\n",
    "import numpy as np\n",
    "\n",
    "# Optional: add more models here\n",
    "regressors = {\n",
    "    \"Ridge\": Ridge(),\n",
    "    \"Lasso\": Lasso(),\n",
    "    \"BayesianRidge\": BayesianRidge(),\n",
    "    \"RandomForest\": RandomForestRegressor(),\n",
    "    \"GradientBoosting\": GradientBoostingRegressor(),\n",
    "    \"SVR\": SVR(),\n",
    "    \"KNN\": KNeighborsRegressor(),\n",
    "    \"DecisionTree\": DecisionTreeRegressor(),\n",
    "}\n",
    "\n",
    "print(\"Benchmarking regressors...\\n\")\n",
    "\n",
    "results = []\n",
    "\n",
    "for name, model in regressors.items():\n",
    "    # Wrap with a pipeline that includes feature scaling\n",
    "    pipe = make_pipeline(StandardScaler(), model)\n",
    "    pipe.fit(X_train, y_train)\n",
    "    y_pred = pipe.predict(X_val)\n",
    "    rmse = np.sqrt(mean_squared_error(y_val, y_pred))\n",
    "    results.append((name, rmse))\n",
    "    print(f\"{name:<18} RMSE: {rmse:.4f}\")\n"
   ]
  }
 ],
 "metadata": {
  "kernelspec": {
   "display_name": "carbon",
   "language": "python",
   "name": "python3"
  },
  "language_info": {
   "codemirror_mode": {
    "name": "ipython",
    "version": 3
   },
   "file_extension": ".py",
   "mimetype": "text/x-python",
   "name": "python",
   "nbconvert_exporter": "python",
   "pygments_lexer": "ipython3",
   "version": "3.12.9"
  }
 },
 "nbformat": 4,
 "nbformat_minor": 5
}
