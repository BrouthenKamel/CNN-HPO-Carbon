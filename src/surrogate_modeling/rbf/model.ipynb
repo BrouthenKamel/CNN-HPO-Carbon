{
 "cells": [
  {
   "cell_type": "markdown",
   "id": "95e53e98",
   "metadata": {},
   "source": [
    "# modules"
   ]
  },
  {
   "cell_type": "code",
   "execution_count": 172,
   "id": "201579ce",
   "metadata": {},
   "outputs": [],
   "source": [
    "import numpy as np\n",
    "import pandas as pd\n",
    "\n",
    "from sklearn.gaussian_process import GaussianProcessRegressor\n",
    "from sklearn.gaussian_process.kernels import RBF, ConstantKernel as C\n",
    "from sklearn.decomposition import PCA\n",
    "\n",
    "from sklearn.model_selection import train_test_split\n",
    "from sklearn.metrics import mean_squared_error\n",
    "\n",
    "from sklearn.preprocessing import StandardScaler\n",
    "from sklearn.feature_selection import VarianceThreshold\n",
    "\n",
    "import matplotlib.pyplot as plt"
   ]
  },
  {
   "cell_type": "markdown",
   "id": "36ce1779",
   "metadata": {},
   "source": [
    "# data"
   ]
  },
  {
   "cell_type": "code",
   "execution_count": 37,
   "id": "3c96463b",
   "metadata": {},
   "outputs": [],
   "source": [
    "df = pd.read_csv('../../../dataset/surrogate.csv')"
   ]
  },
  {
   "cell_type": "markdown",
   "id": "c6a19c5f",
   "metadata": {},
   "source": [
    "# process"
   ]
  },
  {
   "cell_type": "code",
   "execution_count": 40,
   "id": "43bd4857",
   "metadata": {},
   "outputs": [],
   "source": [
    "cat_cols = df.select_dtypes(include=['object']).columns"
   ]
  },
  {
   "cell_type": "code",
   "execution_count": 41,
   "id": "fbe1430f",
   "metadata": {},
   "outputs": [],
   "source": [
    "df = pd.get_dummies(df, columns=cat_cols)"
   ]
  },
  {
   "cell_type": "markdown",
   "id": "4086e218",
   "metadata": {},
   "source": [
    "# split"
   ]
  },
  {
   "cell_type": "code",
   "execution_count": 42,
   "id": "a9910c67",
   "metadata": {},
   "outputs": [],
   "source": [
    "X = df.drop(columns=['train_accuracy', 'test_accuracy'])\n",
    "y = df['test_accuracy']\n",
    "y_ = df['train_accuracy']"
   ]
  },
  {
   "cell_type": "code",
   "execution_count": 44,
   "id": "267e1a1f",
   "metadata": {},
   "outputs": [
    {
     "data": {
      "text/plain": [
       "(np.float64(71.8639393939394),\n",
       " 5.25439514798917,\n",
       " np.float64(73.40521212121213),\n",
       " 6.075126705250557)"
      ]
     },
     "execution_count": 44,
     "metadata": {},
     "output_type": "execute_result"
    }
   ],
   "source": [
    "y.mean(), y.std(), y_.mean(), y_.std()"
   ]
  },
  {
   "cell_type": "code",
   "execution_count": 207,
   "id": "6de7143e",
   "metadata": {},
   "outputs": [],
   "source": [
    "X_train, X_val, y_train, y_val = train_test_split(X, y, test_size=0.1, random_state=42)"
   ]
  },
  {
   "cell_type": "code",
   "execution_count": 200,
   "id": "88845e32",
   "metadata": {},
   "outputs": [],
   "source": [
    "X_train = X\n",
    "X_val = X\n",
    "y_train = y\n",
    "y_val = y"
   ]
  },
  {
   "cell_type": "code",
   "execution_count": 201,
   "id": "267e56ce",
   "metadata": {},
   "outputs": [],
   "source": [
    "selector = VarianceThreshold(threshold=0.01)\n",
    "X_train = selector.fit_transform(X_train)\n",
    "X_val = selector.transform(X_val)"
   ]
  },
  {
   "cell_type": "code",
   "execution_count": 208,
   "id": "fb43aebb",
   "metadata": {},
   "outputs": [],
   "source": [
    "scaler = StandardScaler()\n",
    "X_train = scaler.fit_transform(X_train)\n",
    "X_val = scaler.transform(X_val)"
   ]
  },
  {
   "cell_type": "code",
   "execution_count": 218,
   "id": "3bcceb3f",
   "metadata": {},
   "outputs": [],
   "source": [
    "pca = PCA(n_components=0.96)\n",
    "X_train = pca.fit_transform(X_train)\n",
    "X_val = pca.transform(X_val)"
   ]
  },
  {
   "cell_type": "code",
   "execution_count": 219,
   "id": "acb6495e",
   "metadata": {},
   "outputs": [
    {
     "data": {
      "text/plain": [
       "((29, 21), (4, 21))"
      ]
     },
     "execution_count": 219,
     "metadata": {},
     "output_type": "execute_result"
    }
   ],
   "source": [
    "X_train.shape, X_val.shape"
   ]
  },
  {
   "cell_type": "markdown",
   "id": "f5729ecc",
   "metadata": {},
   "source": [
    "# model"
   ]
  },
  {
   "cell_type": "code",
   "execution_count": 220,
   "id": "c079fa56",
   "metadata": {},
   "outputs": [
    {
     "name": "stdout",
     "output_type": "stream",
     "text": [
      "Fitted kernel: 0.996**2 * RBF(length_scale=5.27)\n"
     ]
    }
   ],
   "source": [
    "kernel = C(5.0, (1e-3, 1e3)) * RBF(length_scale=0.5, length_scale_bounds=(1e-3, 1e3))\n",
    "\n",
    "gpr = GaussianProcessRegressor(kernel=kernel, alpha=1e-3, normalize_y=True, n_restarts_optimizer=200)\n",
    "\n",
    "gpr.fit(X_train, y_train)\n",
    "print(\"Fitted kernel:\", gpr.kernel_)"
   ]
  },
  {
   "cell_type": "code",
   "execution_count": 221,
   "id": "51289290",
   "metadata": {},
   "outputs": [
    {
     "name": "stdout",
     "output_type": "stream",
     "text": [
      "\n",
      "Validation RMSE: 3.5607\n",
      "\n"
     ]
    }
   ],
   "source": [
    "y_pred_val, y_std_val = gpr.predict(X_val, return_std=True)\n",
    "mse = mean_squared_error(y_val, y_pred_val)\n",
    "print(f\"\\nValidation RMSE: {np.sqrt(mse):.4f}\\n\")"
   ]
  },
  {
   "cell_type": "code",
   "execution_count": 213,
   "id": "b6980e4a",
   "metadata": {},
   "outputs": [
    {
     "data": {
      "text/plain": [
       "array([73.4406133 , 72.67081498, 74.01383729, 71.03440903])"
      ]
     },
     "execution_count": 213,
     "metadata": {},
     "output_type": "execute_result"
    }
   ],
   "source": [
    "y_pred_val"
   ]
  },
  {
   "cell_type": "code",
   "execution_count": 139,
   "id": "0a34d22d",
   "metadata": {},
   "outputs": [],
   "source": [
    "confidence_z = {\n",
    "    0.50: 0.674,   # 50%\n",
    "    0.60: 0.841,   # 60%\n",
    "    0.70: 1.036,   # 70%\n",
    "    0.80: 1.282,   # 80%\n",
    "    0.85: 1.440,   # 85%\n",
    "    0.90: 1.645,   # 90%\n",
    "    0.95: 1.960,   # 95%\n",
    "    0.98: 2.326,   # 98%\n",
    "    0.99: 2.576,   # 99%\n",
    "    0.999: 3.291,  # 99.9%\n",
    "    0.9999: 3.891  # 99.99%\n",
    "}"
   ]
  },
  {
   "cell_type": "code",
   "execution_count": 222,
   "id": "a5a23dae",
   "metadata": {},
   "outputs": [
    {
     "name": "stdout",
     "output_type": "stream",
     "text": [
      "Confidence level: 60.0%\n",
      "Val Sample:  True = 75.290, Predicted = 73.661, CI ≈ [69.867, 77.456]\n",
      "Val Sample:  True = 77.850, Predicted = 72.484, CI ≈ [68.696, 76.273]\n",
      "Val Sample:  True = 78.230, Predicted = 74.103, CI ≈ [70.045, 78.160]\n",
      "Val Sample:  True = 72.420, Predicted = 70.924, CI ≈ [67.183, 74.666]\n"
     ]
    }
   ],
   "source": [
    "confidence = 0.6\n",
    "z = confidence_z[confidence]\n",
    "print(f\"Confidence level: {confidence*100:.1f}%\")\n",
    "\n",
    "for x_val, y_true in zip(X_val, y_val):\n",
    "    x_val = x_val.reshape(1, -1)\n",
    "    y_pred, y_std = gpr.predict(x_val, return_std=True)\n",
    "    mean = y_pred[0]\n",
    "    std = y_std[0]\n",
    "    ci = z * std\n",
    "    print(f\"Val Sample:  True = {y_true:.3f}, Predicted = {mean:.3f}, CI ≈ [{mean - ci:.3f}, {mean + ci:.3f}]\")"
   ]
  },
  {
   "cell_type": "code",
   "execution_count": 112,
   "id": "f87b594a",
   "metadata": {},
   "outputs": [
    {
     "data": {
      "text/plain": [
       "((33,), np.float64(71.8639393939394), 5.25439514798917)"
      ]
     },
     "execution_count": 112,
     "metadata": {},
     "output_type": "execute_result"
    }
   ],
   "source": [
    "y.shape, y.mean(), y.std()"
   ]
  },
  {
   "cell_type": "code",
   "execution_count": null,
   "id": "fd298562",
   "metadata": {},
   "outputs": [],
   "source": [
    "\n",
    "\n",
    "# ----- 5. Inference: Predict on new (unlabeled) architectures -----\n",
    "# Simulate 10 new architectures\n",
    "X_new = np.random.rand(10, 5)\n",
    "\n",
    "y_new_pred, y_new_std = gpr.predict(X_new, return_std=True)\n",
    "\n",
    "# Select best by predicted accuracy\n",
    "best_idx = np.argmax(y_new_pred)\n",
    "print(f\"\\nBest predicted architecture: Index {best_idx}, Predicted accuracy = {y_new_pred[best_idx]:.3f}\")\n",
    "\n",
    "# Optionally: Use UCB (exploration + exploitation)\n",
    "kappa = 1.96\n",
    "ucb = y_new_pred + kappa * y_new_std\n",
    "best_ucb_idx = np.argmax(ucb)\n",
    "print(f\"Best UCB architecture: Index {best_ucb_idx}, UCB score = {ucb[best_ucb_idx]:.3f}\")\n",
    "\n",
    "# ----- 6. (Optional) Plot prediction intervals -----\n",
    "plt.figure(figsize=(10, 5))\n",
    "plt.errorbar(range(len(y_new_pred)), y_new_pred, yerr=1.96 * y_new_std, fmt='o', capsize=4)\n",
    "plt.title(\"Predicted Accuracies with 95% Confidence Intervals\")\n",
    "plt.xlabel(\"Candidate Index\")\n",
    "plt.ylabel(\"Predicted Accuracy\")\n",
    "plt.grid(True)\n",
    "plt.show()\n"
   ]
  }
 ],
 "metadata": {
  "kernelspec": {
   "display_name": "carbon",
   "language": "python",
   "name": "python3"
  },
  "language_info": {
   "codemirror_mode": {
    "name": "ipython",
    "version": 3
   },
   "file_extension": ".py",
   "mimetype": "text/x-python",
   "name": "python",
   "nbconvert_exporter": "python",
   "pygments_lexer": "ipython3",
   "version": "3.12.9"
  }
 },
 "nbformat": 4,
 "nbformat_minor": 5
}
